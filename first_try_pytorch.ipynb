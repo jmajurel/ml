{
 "cells": [
  {
   "cell_type": "code",
   "execution_count": 25,
   "metadata": {},
   "outputs": [],
   "source": [
    "import torch\n",
    "from torch import nn\n",
    "from torch.utils.data import Dataset, DataLoader\n",
    "import torch.onnx as onnx\n",
    "import torchvision.models as models\n",
    "from torchvision import datasets\n",
    "from torchvision.transforms import ToTensor, Lambda\n",
    "import matplotlib.pyplot as plt\n",
    "\n",
    "training_data = datasets.FashionMNIST(\n",
    "    root=\"data\",\n",
    "    train=True,\n",
    "    download=True,\n",
    "    transform=ToTensor()\n",
    ")\n",
    "\n",
    "test_data = datasets.FashionMNIST(\n",
    "    root=\"data\",\n",
    "    train=False,\n",
    "    download=True,\n",
    "    transform=ToTensor()\n",
    ")\n"
   ]
  },
  {
   "cell_type": "code",
   "execution_count": 2,
   "metadata": {},
   "outputs": [
    {
     "data": {
      "image/png": "[encoded data removed]",
      "text/plain": [
       "<Figure size 576x576 with 9 Axes>"
      ]
     },
     "metadata": {
      "needs_background": "light"
     },
     "output_type": "display_data"
    }
   ],
   "source": [
    "labels_map = {\n",
    "    0: \"T-shirt\",\n",
    "    1: \"Trouser\",\n",
    "    2: \"Pullover\",\n",
    "    3: \"Dress\",\n",
    "    4: \"Coat\",\n",
    "    5: \"Sandal\",\n",
    "    6: \"Shirt\",\n",
    "    7: \"Sneaker\",\n",
    "    8: \"Bag\",\n",
    "    9: \"Ankle Boot\"\n",
    "}\n",
    "\n",
    "figure = plt.figure(figsize=(8,8))\n",
    "cols, rows = 3, 3\n",
    "for i in range(1, cols * rows + 1):\n",
    "    sample_idx = torch.randint(len(training_data), size=(1,)).item()\n",
    "    img, label = training_data[sample_idx]\n",
    "    figure.add_subplot(rows, cols, i)\n",
    "    plt.title(labels_map[label])\n",
    "    plt.axis(\"off\")\n",
    "    plt.imshow(img.squeeze(), cmap=\"gray\")\n",
    "plt.show()"
   ]
  },
  {
   "cell_type": "code",
   "execution_count": 3,
   "metadata": {},
   "outputs": [],
   "source": [
    "#prepare the data for algo\n",
    "ds = datasets.FashionMNIST(\n",
    "    root=\"data\",\n",
    "    train=True,\n",
    "    download=True,\n",
    "    transform=ToTensor(),\n",
    "    target_transform=Lambda(lambda y: torch.zeros(10, dtype=torch.float).scatter_(0, torch.tensor(y), value=1))\n",
    ")"
   ]
  },
  {
   "cell_type": "code",
   "execution_count": 4,
   "metadata": {},
   "outputs": [
    {
     "data": {
      "text/plain": [
       "Dataset FashionMNIST\n",
       "    Number of datapoints: 60000\n",
       "    Root location: data\n",
       "    Split: Train\n",
       "    StandardTransform\n",
       "Transform: ToTensor()\n",
       "Target transform: Lambda()"
      ]
     },
     "execution_count": 4,
     "metadata": {},
     "output_type": "execute_result"
    }
   ],
   "source": [
    "ds"
   ]
  },
  {
   "cell_type": "code",
   "execution_count": 5,
   "metadata": {},
   "outputs": [
    {
     "name": "stdout",
     "output_type": "stream",
     "text": [
      "Using cpu device\n"
     ]
    }
   ],
   "source": [
    "#determine on each hardware to run model\n",
    "device = 'cuda' if torch.cuda.is_available() else 'cpu'\n",
    "print('Using {} device'.format(device))"
   ]
  },
  {
   "cell_type": "code",
   "execution_count": 6,
   "metadata": {},
   "outputs": [
    {
     "data": {
      "text/plain": [
       "NeuralNetwork(\n",
       "  (flatten): Flatten(start_dim=1, end_dim=-1)\n",
       "  (linear_relu_stack): Sequential(\n",
       "    (0): Linear(in_features=784, out_features=512, bias=True)\n",
       "    (1): ReLU()\n",
       "    (2): Linear(in_features=512, out_features=512, bias=True)\n",
       "    (3): ReLU()\n",
       "    (4): Linear(in_features=512, out_features=10, bias=True)\n",
       "    (5): ReLU()\n",
       "  )\n",
       ")"
      ]
     },
     "execution_count": 6,
     "metadata": {},
     "output_type": "execute_result"
    }
   ],
   "source": [
    "#define and build model\n",
    "class NeuralNetwork(nn.Module):\n",
    "    def __init__(self):\n",
    "        super(NeuralNetwork, self).__init__()\n",
    "        self.flatten = nn.Flatten()\n",
    "        self.linear_relu_stack = nn.Sequential(\n",
    "            nn.Linear(28*28, 512),\n",
    "            nn.ReLU(),\n",
    "            nn.Linear(512, 512),\n",
    "            nn.ReLU(),\n",
    "            nn.Linear(512, 10),\n",
    "            nn.ReLU()\n",
    "        )\n",
    "    def forward(self, x):\n",
    "        x = self.flatten(x)\n",
    "        logits = self.linear_relu_stack(x)\n",
    "        return logits\n",
    "    \n",
    "model = NeuralNetwork().to(device) \n",
    "model"
   ]
  },
  {
   "cell_type": "code",
   "execution_count": 7,
   "metadata": {},
   "outputs": [
    {
     "name": "stdout",
     "output_type": "stream",
     "text": [
      "Predicted class: tensor([4])\n"
     ]
    }
   ],
   "source": [
    "X = torch.rand(1, 28, 28, device=device)\n",
    "logits = model(X)\n",
    "pred_probab = nn.Softmax(dim=1)(logits)\n",
    "y_pred = pred_probab.argmax(1)\n",
    "print(f\"Predicted class: {y_pred}\")"
   ]
  },
  {
   "cell_type": "code",
   "execution_count": 8,
   "metadata": {},
   "outputs": [
    {
     "name": "stdout",
     "output_type": "stream",
     "text": [
      "torch.Size([3, 28, 28])\n"
     ]
    }
   ],
   "source": [
    "#undesting network layers\n",
    "\n",
    "#get three images from dataset each 28x28pixels\n",
    "input_image = torch.rand(3, 28, 28, device=device)\n",
    "print(input_image.size())"
   ]
  },
  {
   "cell_type": "code",
   "execution_count": 9,
   "metadata": {},
   "outputs": [
    {
     "name": "stdout",
     "output_type": "stream",
     "text": [
      "torch.Size([3, 784])\n"
     ]
    }
   ],
   "source": [
    "#prepare the data  input for the nn \n",
    "flatten = nn.Flatten()\n",
    "flat_img = flatten(input_image)\n",
    "print(flat_img.size())"
   ]
  },
  {
   "cell_type": "code",
   "execution_count": 10,
   "metadata": {},
   "outputs": [
    {
     "name": "stdout",
     "output_type": "stream",
     "text": [
      "torch.Size([3, 20])\n"
     ]
    }
   ],
   "source": [
    "layer1 = nn.Linear(in_features=28*28, out_features=20)\n",
    "hidden1 = layer1(flat_img)\n",
    "print(hidden1.size())"
   ]
  },
  {
   "cell_type": "code",
   "execution_count": 11,
   "metadata": {},
   "outputs": [
    {
     "name": "stdout",
     "output_type": "stream",
     "text": [
      "Before ReLU: tensor([[ 0.0639,  0.1215,  0.4435,  0.2232, -0.1627, -0.7225, -0.2739,  0.3244,\n",
      "          0.3910,  0.2856, -0.3736, -0.4547,  0.2331, -0.2966,  0.0156,  0.3319,\n",
      "         -0.1463,  0.4576,  0.1728, -0.0232],\n",
      "        [ 0.0436,  0.2890,  0.4476,  0.1607, -0.3441, -0.5084, -0.3745,  0.1871,\n",
      "          0.5076, -0.0897, -0.3460, -0.5528,  0.4028, -0.4121,  0.0429,  0.1202,\n",
      "         -0.3479,  0.5641,  0.2193, -0.3601],\n",
      "        [ 0.0140,  0.1185,  0.5113, -0.0075, -0.4606, -0.4864, -0.0583,  0.3895,\n",
      "          0.2470, -0.4362, -0.2618, -0.5993,  0.4051, -0.4131,  0.0974,  0.1219,\n",
      "         -0.3249,  0.3480,  0.1970, -0.1699]], grad_fn=<AddmmBackward>)\n",
      "\n",
      "\n",
      "After ReLU: tensor([[0.0639, 0.1215, 0.4435, 0.2232, 0.0000, 0.0000, 0.0000, 0.3244, 0.3910,\n",
      "         0.2856, 0.0000, 0.0000, 0.2331, 0.0000, 0.0156, 0.3319, 0.0000, 0.4576,\n",
      "         0.1728, 0.0000],\n",
      "        [0.0436, 0.2890, 0.4476, 0.1607, 0.0000, 0.0000, 0.0000, 0.1871, 0.5076,\n",
      "         0.0000, 0.0000, 0.0000, 0.4028, 0.0000, 0.0429, 0.1202, 0.0000, 0.5641,\n",
      "         0.2193, 0.0000],\n",
      "        [0.0140, 0.1185, 0.5113, 0.0000, 0.0000, 0.0000, 0.0000, 0.3895, 0.2470,\n",
      "         0.0000, 0.0000, 0.0000, 0.4051, 0.0000, 0.0974, 0.1219, 0.0000, 0.3480,\n",
      "         0.1970, 0.0000]], grad_fn=<ReluBackward0>)\n"
     ]
    }
   ],
   "source": [
    "print(f\"Before ReLU: {hidden1}\\n\\n\")\n",
    "hidden1 = nn.ReLU()(hidden1)\n",
    "print(f\"After ReLU: {hidden1}\")"
   ]
  },
  {
   "cell_type": "code",
   "execution_count": 12,
   "metadata": {},
   "outputs": [
    {
     "data": {
      "text/plain": [
       "tensor([[-0.0688, -0.0430, -0.3530,  0.1093,  0.0873,  0.0984, -0.2349, -0.1938,\n",
       "         -0.1638,  0.2917],\n",
       "        [-0.1230,  0.0077, -0.1758,  0.3709,  0.2699,  0.3194, -0.3508, -0.3670,\n",
       "         -0.1512,  0.2272],\n",
       "        [-0.0586,  0.0332, -0.1698,  0.1078,  0.1121,  0.1745, -0.2192, -0.1578,\n",
       "         -0.0270,  0.2120]], grad_fn=<AddmmBackward>)"
      ]
     },
     "execution_count": 12,
     "metadata": {},
     "output_type": "execute_result"
    }
   ],
   "source": [
    "seq_modules = nn.Sequential(\n",
    "    flatten,\n",
    "    layer1,\n",
    "    nn.ReLU(),\n",
    "    nn.Linear(20, 10)\n",
    ")\n",
    "input_img = torch.rand(3, 28, 28)\n",
    "logits = seq_modules(input_img)\n",
    "logits"
   ]
  },
  {
   "cell_type": "code",
   "execution_count": 13,
   "metadata": {},
   "outputs": [],
   "source": [
    "softmax = nn.Softmax(dim=1)\n",
    "pred_probab = softmax(logits)"
   ]
  },
  {
   "cell_type": "code",
   "execution_count": 14,
   "metadata": {},
   "outputs": [
    {
     "name": "stdout",
     "output_type": "stream",
     "text": [
      "Model structure:  NeuralNetwork(\n",
      "  (flatten): Flatten(start_dim=1, end_dim=-1)\n",
      "  (linear_relu_stack): Sequential(\n",
      "    (0): Linear(in_features=784, out_features=512, bias=True)\n",
      "    (1): ReLU()\n",
      "    (2): Linear(in_features=512, out_features=512, bias=True)\n",
      "    (3): ReLU()\n",
      "    (4): Linear(in_features=512, out_features=10, bias=True)\n",
      "    (5): ReLU()\n",
      "  )\n",
      ") \n",
      "\n",
      "\n",
      "Layer: linear_relu_stack.0.weight | Size: torch.Size([512, 784]) | Values : tensor([[-0.0125, -0.0213,  0.0016,  ..., -0.0091, -0.0327, -0.0340],\n",
      "        [-0.0209, -0.0054, -0.0265,  ...,  0.0147, -0.0250, -0.0168]],\n",
      "       grad_fn=<SliceBackward>) \n",
      "\n",
      "Layer: linear_relu_stack.0.bias | Size: torch.Size([512]) | Values : tensor([ 0.0114, -0.0243], grad_fn=<SliceBackward>) \n",
      "\n",
      "Layer: linear_relu_stack.2.weight | Size: torch.Size([512, 512]) | Values : tensor([[ 0.0255, -0.0024,  0.0003,  ...,  0.0310,  0.0347, -0.0242],\n",
      "        [ 0.0131, -0.0200, -0.0014,  ...,  0.0145, -0.0179,  0.0105]],\n",
      "       grad_fn=<SliceBackward>) \n",
      "\n",
      "Layer: linear_relu_stack.2.bias | Size: torch.Size([512]) | Values : tensor([-0.0328,  0.0379], grad_fn=<SliceBackward>) \n",
      "\n",
      "Layer: linear_relu_stack.4.weight | Size: torch.Size([10, 512]) | Values : tensor([[ 0.0389, -0.0173,  0.0349,  ..., -0.0221,  0.0343,  0.0290],\n",
      "        [-0.0208, -0.0099, -0.0204,  ...,  0.0401,  0.0077, -0.0131]],\n",
      "       grad_fn=<SliceBackward>) \n",
      "\n",
      "Layer: linear_relu_stack.4.bias | Size: torch.Size([10]) | Values : tensor([ 0.0286, -0.0120], grad_fn=<SliceBackward>) \n",
      "\n"
     ]
    }
   ],
   "source": [
    "#info about nn parameters\n",
    "\n",
    "print(\"Model structure: \", model, \"\\n\\n\")\n",
    "\n",
    "for name, param in model.named_parameters():\n",
    "    print(f\"Layer: {name} | Size: {param.size()} | Values : {param[:2]} \\n\")"
   ]
  },
  {
   "cell_type": "code",
   "execution_count": 17,
   "metadata": {},
   "outputs": [],
   "source": [
    "#backpropagation\n",
    "x = torch.ones(5)\n",
    "y = torch.zeros(3)\n",
    "w = torch.randn(5, 3, requires_grad=True)\n",
    "b = torch.randn(3, requires_grad=True)\n",
    "z = torch.matmul(x, w) + b\n",
    "loss = torch.nn.functional.binary_cross_entropy_with_logits(z, y)"
   ]
  },
  {
   "cell_type": "code",
   "execution_count": 18,
   "metadata": {},
   "outputs": [
    {
     "name": "stdout",
     "output_type": "stream",
     "text": [
      "Gradient function for z = <AddBackward0 object at 0x7f6017054040>\n",
      "Gradient function for loss = <BinaryCrossEntropyWithLogitsBackward object at 0x7f6017054130>\n"
     ]
    }
   ],
   "source": [
    "print('Gradient function for z =', z.grad_fn)\n",
    "print('Gradient function for loss =', loss.grad_fn)"
   ]
  },
  {
   "cell_type": "code",
   "execution_count": 19,
   "metadata": {},
   "outputs": [
    {
     "name": "stdout",
     "output_type": "stream",
     "text": [
      "tensor([[0.3091, 0.0828, 0.0665],\n",
      "        [0.3091, 0.0828, 0.0665],\n",
      "        [0.3091, 0.0828, 0.0665],\n",
      "        [0.3091, 0.0828, 0.0665],\n",
      "        [0.3091, 0.0828, 0.0665]])\n",
      "tensor([0.3091, 0.0828, 0.0665])\n"
     ]
    }
   ],
   "source": [
    "loss.backward()\n",
    "print(w.grad)\n",
    "print(b.grad)"
   ]
  },
  {
   "cell_type": "code",
   "execution_count": 20,
   "metadata": {},
   "outputs": [
    {
     "name": "stdout",
     "output_type": "stream",
     "text": [
      "True\n",
      "False\n"
     ]
    }
   ],
   "source": [
    "#disable gradient tracking, optimization\n",
    "#use case: model already trained and ready\n",
    "z = torch.matmul(x, w) + b\n",
    "print(z.requires_grad)\n",
    "\n",
    "with torch.no_grad():\n",
    "    z = torch.matmul(x, w)+b\n",
    "print(z.requires_grad)"
   ]
  },
  {
   "cell_type": "code",
   "execution_count": 21,
   "metadata": {},
   "outputs": [],
   "source": [
    "#training and testing functions\n",
    "def train_loop(dataloader, model, loss_fn, optimizer):\n",
    "    size = len(dataloader.dataset)\n",
    "    for batch, (X, y) in enumerate(dataloader):\n",
    "        #Computer prediction and loos\n",
    "        pred = model(X)\n",
    "        loss = loss_fn(pred, y)\n",
    "        \n",
    "        #Backpropagation\n",
    "        optimizer.zero_grad() #initialize gradients to prevent double counting\n",
    "        loss.backward() #backpropagate the prediction loss\n",
    "        optimizer.step() #adjust the params by grads collected in backward pass\n",
    "        \n",
    "        if batch % 100 == 0:\n",
    "            loss, current = loss.item(), batch * len(X)\n",
    "            print(f\"loss: {loss:>7f} [{current:>5d}/{size:>5d}]\")\n",
    "            \n",
    "def test_loop(dataloader, model, loss_fn):\n",
    "    size = len(dataloader.dataset)\n",
    "    num_batches = len(dataloader)\n",
    "    test_loss, correct = 0, 0\n",
    "    \n",
    "    with torch.no_grad():\n",
    "        for X, y in dataloader:\n",
    "            pred = model(X)\n",
    "            test_loss += loss_fn(pred, y).item()\n",
    "            correct += (pred.argmax(1) == y).type(torch.float).sum().item()\n",
    "            \n",
    "        test_loss /= num_batches\n",
    "        correct /= size\n",
    "        print(f\"Test Error: \\n Accuracy: {(100*correct):>0.1f}%, Avg loss: {test_loss:>8f} \\n\")"
   ]
  },
  {
   "cell_type": "code",
   "execution_count": 26,
   "metadata": {},
   "outputs": [],
   "source": [
    "train_dataloader = DataLoader(training_data, batch_size=64)\n",
    "test_dataloader = DataLoader(test_data, batch_size=64)"
   ]
  },
  {
   "cell_type": "code",
   "execution_count": 27,
   "metadata": {},
   "outputs": [
    {
     "name": "stdout",
     "output_type": "stream",
     "text": [
      "Epoch 1\n",
      "-----------------\n",
      "loss: 2.299077 [    0/60000]\n",
      "loss: 2.298462 [ 6400/60000]\n",
      "loss: 2.287225 [12800/60000]\n",
      "loss: 2.289310 [19200/60000]\n",
      "loss: 2.266523 [25600/60000]\n",
      "loss: 2.239930 [32000/60000]\n",
      "loss: 2.254228 [38400/60000]\n",
      "loss: 2.230567 [44800/60000]\n",
      "loss: 2.236179 [51200/60000]\n",
      "loss: 2.192834 [57600/60000]\n",
      "Test Error: \n",
      " Accuracy: 37.6%, Avg loss: 2.218336 \n",
      "\n",
      "Epoch 2\n",
      "-----------------\n",
      "loss: 2.217721 [    0/60000]\n",
      "loss: 2.227020 [ 6400/60000]\n",
      "loss: 2.210174 [12800/60000]\n",
      "loss: 2.231071 [19200/60000]\n",
      "loss: 2.155915 [25600/60000]\n",
      "loss: 2.116124 [32000/60000]\n",
      "loss: 2.144492 [38400/60000]\n",
      "loss: 2.100714 [44800/60000]\n",
      "loss: 2.130549 [51200/60000]\n",
      "loss: 2.025759 [57600/60000]\n",
      "Test Error: \n",
      " Accuracy: 41.7%, Avg loss: 2.086195 \n",
      "\n",
      "Epoch 3\n",
      "-----------------\n",
      "loss: 2.102107 [    0/60000]\n",
      "loss: 2.113802 [ 6400/60000]\n",
      "loss: 2.081302 [12800/60000]\n",
      "loss: 2.119014 [19200/60000]\n",
      "loss: 1.956375 [25600/60000]\n",
      "loss: 1.927527 [32000/60000]\n",
      "loss: 1.960662 [38400/60000]\n",
      "loss: 1.897248 [44800/60000]\n",
      "loss: 1.963386 [51200/60000]\n",
      "loss: 1.780723 [57600/60000]\n",
      "Test Error: \n",
      " Accuracy: 47.6%, Avg loss: 1.893106 \n",
      "\n",
      "Epoch 4\n",
      "-----------------\n",
      "loss: 1.933601 [    0/60000]\n",
      "loss: 1.958508 [ 6400/60000]\n",
      "loss: 1.911784 [12800/60000]\n",
      "loss: 1.962194 [19200/60000]\n",
      "loss: 1.708241 [25600/60000]\n",
      "loss: 1.722935 [32000/60000]\n",
      "loss: 1.742982 [38400/60000]\n",
      "loss: 1.685781 [44800/60000]\n",
      "loss: 1.778723 [51200/60000]\n",
      "loss: 1.535538 [57600/60000]\n",
      "Test Error: \n",
      " Accuracy: 48.7%, Avg loss: 1.702411 \n",
      "\n",
      "Epoch 5\n",
      "-----------------\n",
      "loss: 1.766135 [    0/60000]\n",
      "loss: 1.818991 [ 6400/60000]\n",
      "loss: 1.765016 [12800/60000]\n",
      "loss: 1.815107 [19200/60000]\n",
      "loss: 1.502867 [25600/60000]\n",
      "loss: 1.570091 [32000/60000]\n",
      "loss: 1.566698 [38400/60000]\n",
      "loss: 1.527735 [44800/60000]\n",
      "loss: 1.630591 [51200/60000]\n",
      "loss: 1.362835 [57600/60000]\n",
      "Test Error: \n",
      " Accuracy: 49.6%, Avg loss: 1.561749 \n",
      "\n",
      "Epoch 6\n",
      "-----------------\n",
      "loss: 1.635506 [    0/60000]\n",
      "loss: 1.710736 [ 6400/60000]\n",
      "loss: 1.648515 [12800/60000]\n",
      "loss: 1.708907 [19200/60000]\n",
      "loss: 1.361399 [25600/60000]\n",
      "loss: 1.464237 [32000/60000]\n",
      "loss: 1.452329 [38400/60000]\n",
      "loss: 1.418922 [44800/60000]\n",
      "loss: 1.526220 [51200/60000]\n",
      "loss: 1.256009 [57600/60000]\n",
      "Test Error: \n",
      " Accuracy: 50.2%, Avg loss: 1.463730 \n",
      "\n",
      "Epoch 7\n",
      "-----------------\n",
      "loss: 1.535283 [    0/60000]\n",
      "loss: 1.623882 [ 6400/60000]\n",
      "loss: 1.550429 [12800/60000]\n",
      "loss: 1.630174 [19200/60000]\n",
      "loss: 1.267260 [25600/60000]\n",
      "loss: 1.386686 [32000/60000]\n",
      "loss: 1.372982 [38400/60000]\n",
      "loss: 1.338926 [44800/60000]\n",
      "loss: 1.449570 [51200/60000]\n",
      "loss: 1.184654 [57600/60000]\n",
      "Test Error: \n",
      " Accuracy: 50.9%, Avg loss: 1.390834 \n",
      "\n",
      "Epoch 8\n",
      "-----------------\n",
      "loss: 1.459196 [    0/60000]\n",
      "loss: 1.553295 [ 6400/60000]\n",
      "loss: 1.467516 [12800/60000]\n",
      "loss: 1.567948 [19200/60000]\n",
      "loss: 1.201125 [25600/60000]\n",
      "loss: 1.328358 [32000/60000]\n",
      "loss: 1.315316 [38400/60000]\n",
      "loss: 1.277915 [44800/60000]\n",
      "loss: 1.391804 [51200/60000]\n",
      "loss: 1.131094 [57600/60000]\n",
      "Test Error: \n",
      " Accuracy: 51.6%, Avg loss: 1.334107 \n",
      "\n",
      "Epoch 9\n",
      "-----------------\n",
      "loss: 1.400103 [    0/60000]\n",
      "loss: 1.494179 [ 6400/60000]\n",
      "loss: 1.397316 [12800/60000]\n",
      "loss: 1.517102 [19200/60000]\n",
      "loss: 1.152182 [25600/60000]\n",
      "loss: 1.282869 [32000/60000]\n",
      "loss: 1.271649 [38400/60000]\n",
      "loss: 1.229419 [44800/60000]\n",
      "loss: 1.345445 [51200/60000]\n",
      "loss: 1.086517 [57600/60000]\n",
      "Test Error: \n",
      " Accuracy: 52.5%, Avg loss: 1.288532 \n",
      "\n",
      "Epoch 10\n",
      "-----------------\n",
      "loss: 1.350346 [    0/60000]\n",
      "loss: 1.444361 [ 6400/60000]\n",
      "loss: 1.338292 [12800/60000]\n",
      "loss: 1.476061 [19200/60000]\n",
      "loss: 1.114391 [25600/60000]\n",
      "loss: 1.246511 [32000/60000]\n",
      "loss: 1.236776 [38400/60000]\n",
      "loss: 1.189488 [44800/60000]\n",
      "loss: 1.307134 [51200/60000]\n",
      "loss: 1.050316 [57600/60000]\n",
      "Test Error: \n",
      " Accuracy: 53.5%, Avg loss: 1.251356 \n",
      "\n",
      "Done!\n"
     ]
    }
   ],
   "source": [
    "#hyperparamaters\n",
    "\n",
    "learning_rate = 1e-3\n",
    "batch_size = 64\n",
    "epochs = 10\n",
    "\n",
    "#Run model on training and testing step\n",
    "\n",
    "loss_fn = nn.CrossEntropyLoss()\n",
    "optimizer = torch.optim.SGD(model.parameters(), lr=learning_rate)\n",
    "\n",
    "for t in range(epochs):\n",
    "    print(f\"Epoch {t+1}\\n-----------------\")\n",
    "    train_loop(train_dataloader, model, loss_fn, optimizer)\n",
    "    test_loop(test_dataloader, model, loss_fn)\n",
    "\n",
    "print(\"Done!\")"
   ]
  },
  {
   "cell_type": "code",
   "execution_count": 28,
   "metadata": {},
   "outputs": [],
   "source": [
    "#save model\n",
    "torch.save(model, 'modelZalando.pth')\n"
   ]
  },
  {
   "cell_type": "code",
   "execution_count": null,
   "metadata": {},
   "outputs": [],
   "source": []
  }
 ],
 "metadata": {
  "kernelspec": {
   "display_name": "Python 3",
   "language": "python",
   "name": "python3"
  },
  "language_info": {
   "codemirror_mode": {
    "name": "ipython",
    "version": 3
   },
   "file_extension": ".py",
   "mimetype": "text/x-python",
   "name": "python",
   "nbconvert_exporter": "python",
   "pygments_lexer": "ipython3",
   "version": "3.8.10"
  }
 },
 "nbformat": 4,
 "nbformat_minor": 4
}
