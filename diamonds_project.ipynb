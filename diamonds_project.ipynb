{
 "cells": [
  {
   "cell_type": "code",
   "execution_count": 28,
   "id": "2238b233-dd47-4dab-96c6-1fff77eac1d0",
   "metadata": {},
   "outputs": [],
   "source": [
    "import pandas as pd\n",
    "import matplotlib.pyplot as plt\n",
    "import seaborn as sbn"
   ]
  },
  {
   "cell_type": "markdown",
   "id": "60b42f94-5063-4d69-b5a0-5f81c509d369",
   "metadata": {},
   "source": [
    "# Indroduction\n",
    "\n",
    "This project aims at predicting diamond price based on its features using regression models\n",
    "\n",
    "Diamonds data set available on kaggle (https://www.kaggle.com/enashed/diamond-prices)"
   ]
  },
  {
   "cell_type": "markdown",
   "id": "80c3dea1-65d3-4a73-9657-cfdba8cadab6",
   "metadata": {},
   "source": [
    "# Project Planning\n",
    "1. Data exploration\n",
    "2. Data manipulation\n",
    "3. Data cleaning\n",
    "4. Feature engineering\n",
    "5. Data preprocessing for model\n",
    "6. Basic model building\n",
    "7. Model Tuning\n",
    "8. Ensemble model building\n",
    "9. Results"
   ]
  },
  {
   "cell_type": "markdown",
   "id": "442091c1-c806-4287-840c-0f03f013db48",
   "metadata": {},
   "source": [
    "# Data Exploration"
   ]
  },
  {
   "cell_type": "code",
   "execution_count": 2,
   "id": "05ec4777-98a8-4c61-986f-2227c012b7dc",
   "metadata": {},
   "outputs": [],
   "source": [
    "df = pd.read_csv(\"./data/diamonds_project/diamonds.csv\")"
   ]
  },
  {
   "cell_type": "code",
   "execution_count": 3,
   "id": "1938392f-56ba-46fb-8440-636e19080e9d",
   "metadata": {},
   "outputs": [
    {
     "data": {
      "text/html": [
       "<div>\n",
       "<style scoped>\n",
       "    .dataframe tbody tr th:only-of-type {\n",
       "        vertical-align: middle;\n",
       "    }\n",
       "\n",
       "    .dataframe tbody tr th {\n",
       "        vertical-align: top;\n",
       "    }\n",
       "\n",
       "    .dataframe thead th {\n",
       "        text-align: right;\n",
       "    }\n",
       "</style>\n",
       "<table border=\"1\" class=\"dataframe\">\n",
       "  <thead>\n",
       "    <tr style=\"text-align: right;\">\n",
       "      <th></th>\n",
       "      <th>diamond_id</th>\n",
       "      <th>shape</th>\n",
       "      <th>size</th>\n",
       "      <th>color</th>\n",
       "      <th>fancy_color_dominant_color</th>\n",
       "      <th>fancy_color_secondary_color</th>\n",
       "      <th>fancy_color_overtone</th>\n",
       "      <th>fancy_color_intensity</th>\n",
       "      <th>clarity</th>\n",
       "      <th>cut</th>\n",
       "      <th>...</th>\n",
       "      <th>girdle_min</th>\n",
       "      <th>girdle_max</th>\n",
       "      <th>culet_size</th>\n",
       "      <th>culet_condition</th>\n",
       "      <th>fluor_color</th>\n",
       "      <th>fluor_intensity</th>\n",
       "      <th>lab</th>\n",
       "      <th>total_sales_price</th>\n",
       "      <th>eye_clean</th>\n",
       "      <th>date</th>\n",
       "    </tr>\n",
       "  </thead>\n",
       "  <tbody>\n",
       "    <tr>\n",
       "      <th>0</th>\n",
       "      <td>131328926</td>\n",
       "      <td>Round</td>\n",
       "      <td>0.09</td>\n",
       "      <td>E</td>\n",
       "      <td>NaN</td>\n",
       "      <td>NaN</td>\n",
       "      <td>NaN</td>\n",
       "      <td>NaN</td>\n",
       "      <td>VVS2</td>\n",
       "      <td>Excellent</td>\n",
       "      <td>...</td>\n",
       "      <td>M</td>\n",
       "      <td>M</td>\n",
       "      <td>N</td>\n",
       "      <td>NaN</td>\n",
       "      <td>NaN</td>\n",
       "      <td>None</td>\n",
       "      <td>IGI</td>\n",
       "      <td>200</td>\n",
       "      <td>NaN</td>\n",
       "      <td>2022-02-24</td>\n",
       "    </tr>\n",
       "    <tr>\n",
       "      <th>1</th>\n",
       "      <td>131704776</td>\n",
       "      <td>Round</td>\n",
       "      <td>0.09</td>\n",
       "      <td>E</td>\n",
       "      <td>NaN</td>\n",
       "      <td>NaN</td>\n",
       "      <td>NaN</td>\n",
       "      <td>NaN</td>\n",
       "      <td>VVS2</td>\n",
       "      <td>Very Good</td>\n",
       "      <td>...</td>\n",
       "      <td>STK</td>\n",
       "      <td>STK</td>\n",
       "      <td>N</td>\n",
       "      <td>NaN</td>\n",
       "      <td>NaN</td>\n",
       "      <td>None</td>\n",
       "      <td>IGI</td>\n",
       "      <td>200</td>\n",
       "      <td>NaN</td>\n",
       "      <td>2022-02-24</td>\n",
       "    </tr>\n",
       "    <tr>\n",
       "      <th>2</th>\n",
       "      <td>131584417</td>\n",
       "      <td>Round</td>\n",
       "      <td>0.09</td>\n",
       "      <td>E</td>\n",
       "      <td>NaN</td>\n",
       "      <td>NaN</td>\n",
       "      <td>NaN</td>\n",
       "      <td>NaN</td>\n",
       "      <td>VVS2</td>\n",
       "      <td>Excellent</td>\n",
       "      <td>...</td>\n",
       "      <td>TN</td>\n",
       "      <td>M</td>\n",
       "      <td>NaN</td>\n",
       "      <td>NaN</td>\n",
       "      <td>NaN</td>\n",
       "      <td>None</td>\n",
       "      <td>IGI</td>\n",
       "      <td>200</td>\n",
       "      <td>NaN</td>\n",
       "      <td>2022-02-24</td>\n",
       "    </tr>\n",
       "    <tr>\n",
       "      <th>3</th>\n",
       "      <td>131584416</td>\n",
       "      <td>Round</td>\n",
       "      <td>0.09</td>\n",
       "      <td>E</td>\n",
       "      <td>NaN</td>\n",
       "      <td>NaN</td>\n",
       "      <td>NaN</td>\n",
       "      <td>NaN</td>\n",
       "      <td>VVS2</td>\n",
       "      <td>Excellent</td>\n",
       "      <td>...</td>\n",
       "      <td>M</td>\n",
       "      <td>STK</td>\n",
       "      <td>NaN</td>\n",
       "      <td>NaN</td>\n",
       "      <td>NaN</td>\n",
       "      <td>None</td>\n",
       "      <td>IGI</td>\n",
       "      <td>200</td>\n",
       "      <td>NaN</td>\n",
       "      <td>2022-02-24</td>\n",
       "    </tr>\n",
       "    <tr>\n",
       "      <th>4</th>\n",
       "      <td>131613644</td>\n",
       "      <td>Round</td>\n",
       "      <td>0.09</td>\n",
       "      <td>E</td>\n",
       "      <td>NaN</td>\n",
       "      <td>NaN</td>\n",
       "      <td>NaN</td>\n",
       "      <td>NaN</td>\n",
       "      <td>VVS2</td>\n",
       "      <td>Very Good</td>\n",
       "      <td>...</td>\n",
       "      <td>STK</td>\n",
       "      <td>STK</td>\n",
       "      <td>N</td>\n",
       "      <td>NaN</td>\n",
       "      <td>NaN</td>\n",
       "      <td>None</td>\n",
       "      <td>IGI</td>\n",
       "      <td>200</td>\n",
       "      <td>NaN</td>\n",
       "      <td>2022-02-24</td>\n",
       "    </tr>\n",
       "  </tbody>\n",
       "</table>\n",
       "<p>5 rows × 27 columns</p>\n",
       "</div>"
      ],
      "text/plain": [
       "   diamond_id  shape  size color fancy_color_dominant_color  \\\n",
       "0   131328926  Round  0.09     E                        NaN   \n",
       "1   131704776  Round  0.09     E                        NaN   \n",
       "2   131584417  Round  0.09     E                        NaN   \n",
       "3   131584416  Round  0.09     E                        NaN   \n",
       "4   131613644  Round  0.09     E                        NaN   \n",
       "\n",
       "  fancy_color_secondary_color fancy_color_overtone fancy_color_intensity  \\\n",
       "0                         NaN                  NaN                   NaN   \n",
       "1                         NaN                  NaN                   NaN   \n",
       "2                         NaN                  NaN                   NaN   \n",
       "3                         NaN                  NaN                   NaN   \n",
       "4                         NaN                  NaN                   NaN   \n",
       "\n",
       "  clarity        cut  ... girdle_min girdle_max  culet_size  culet_condition  \\\n",
       "0    VVS2  Excellent  ...          M          M           N              NaN   \n",
       "1    VVS2  Very Good  ...        STK        STK           N              NaN   \n",
       "2    VVS2  Excellent  ...         TN          M         NaN              NaN   \n",
       "3    VVS2  Excellent  ...          M        STK         NaN              NaN   \n",
       "4    VVS2  Very Good  ...        STK        STK           N              NaN   \n",
       "\n",
       "   fluor_color  fluor_intensity  lab total_sales_price eye_clean        date  \n",
       "0          NaN             None  IGI               200       NaN  2022-02-24  \n",
       "1          NaN             None  IGI               200       NaN  2022-02-24  \n",
       "2          NaN             None  IGI               200       NaN  2022-02-24  \n",
       "3          NaN             None  IGI               200       NaN  2022-02-24  \n",
       "4          NaN             None  IGI               200       NaN  2022-02-24  \n",
       "\n",
       "[5 rows x 27 columns]"
      ]
     },
     "execution_count": 3,
     "metadata": {},
     "output_type": "execute_result"
    }
   ],
   "source": [
    "df.head()"
   ]
  },
  {
   "cell_type": "code",
   "execution_count": 4,
   "id": "c101649d-5c36-4f54-99dd-70c6755307e2",
   "metadata": {},
   "outputs": [
    {
     "data": {
      "text/plain": [
       "diamond_id                       int64\n",
       "shape                           object\n",
       "size                           float64\n",
       "color                           object\n",
       "fancy_color_dominant_color      object\n",
       "fancy_color_secondary_color     object\n",
       "fancy_color_overtone            object\n",
       "fancy_color_intensity           object\n",
       "clarity                         object\n",
       "cut                             object\n",
       "symmetry                        object\n",
       "polish                          object\n",
       "depth_percent                  float64\n",
       "table_percent                  float64\n",
       "meas_length                    float64\n",
       "meas_width                     float64\n",
       "meas_depth                     float64\n",
       "girdle_min                      object\n",
       "girdle_max                      object\n",
       "culet_size                      object\n",
       "culet_condition                 object\n",
       "fluor_color                     object\n",
       "fluor_intensity                 object\n",
       "lab                             object\n",
       "total_sales_price                int64\n",
       "eye_clean                       object\n",
       "date                            object\n",
       "dtype: object"
      ]
     },
     "execution_count": 4,
     "metadata": {},
     "output_type": "execute_result"
    }
   ],
   "source": [
    "df.dtypes"
   ]
  },
  {
   "cell_type": "code",
   "execution_count": 5,
   "id": "95265044-51ba-47df-a6c9-47bbf2ebd53d",
   "metadata": {},
   "outputs": [
    {
     "data": {
      "text/plain": [
       "(219704, 27)"
      ]
     },
     "execution_count": 5,
     "metadata": {},
     "output_type": "execute_result"
    }
   ],
   "source": [
    "df.shape"
   ]
  },
  {
   "cell_type": "code",
   "execution_count": 6,
   "id": "93598b3c-05dd-47e7-aaf0-d9fdc8c1d38d",
   "metadata": {},
   "outputs": [
    {
     "data": {
      "text/plain": [
       "Index(['diamond_id', 'shape', 'size', 'color', 'fancy_color_dominant_color',\n",
       "       'fancy_color_secondary_color', 'fancy_color_overtone',\n",
       "       'fancy_color_intensity', 'clarity', 'cut', 'symmetry', 'polish',\n",
       "       'depth_percent', 'table_percent', 'meas_length', 'meas_width',\n",
       "       'meas_depth', 'girdle_min', 'girdle_max', 'culet_size',\n",
       "       'culet_condition', 'fluor_color', 'fluor_intensity', 'lab',\n",
       "       'total_sales_price', 'eye_clean', 'date'],\n",
       "      dtype='object')"
      ]
     },
     "execution_count": 6,
     "metadata": {},
     "output_type": "execute_result"
    }
   ],
   "source": [
    "df.columns"
   ]
  },
  {
   "cell_type": "code",
   "execution_count": 7,
   "id": "27458783-1626-4ac7-8809-234e14024298",
   "metadata": {},
   "outputs": [
    {
     "name": "stdout",
     "output_type": "stream",
     "text": [
      "<class 'pandas.core.frame.DataFrame'>\n",
      "RangeIndex: 219704 entries, 0 to 219703\n",
      "Data columns (total 27 columns):\n",
      " #   Column                       Non-Null Count   Dtype  \n",
      "---  ------                       --------------   -----  \n",
      " 0   diamond_id                   219704 non-null  int64  \n",
      " 1   shape                        219704 non-null  object \n",
      " 2   size                         219704 non-null  float64\n",
      " 3   color                        210542 non-null  object \n",
      " 4   fancy_color_dominant_color   9164 non-null    object \n",
      " 5   fancy_color_secondary_color  1062 non-null    object \n",
      " 6   fancy_color_overtone         2038 non-null    object \n",
      " 7   fancy_color_intensity        9162 non-null    object \n",
      " 8   clarity                      219704 non-null  object \n",
      " 9   cut                          159097 non-null  object \n",
      " 10  symmetry                     219704 non-null  object \n",
      " 11  polish                       219704 non-null  object \n",
      " 12  depth_percent                219704 non-null  float64\n",
      " 13  table_percent                219704 non-null  float64\n",
      " 14  meas_length                  219704 non-null  float64\n",
      " 15  meas_width                   219704 non-null  float64\n",
      " 16  meas_depth                   219704 non-null  float64\n",
      " 17  girdle_min                   136271 non-null  object \n",
      " 18  girdle_max                   135408 non-null  object \n",
      " 19  culet_size                   133963 non-null  object \n",
      " 20  culet_condition              15319 non-null   object \n",
      " 21  fluor_color                  15726 non-null   object \n",
      " 22  fluor_intensity              219576 non-null  object \n",
      " 23  lab                          219704 non-null  object \n",
      " 24  total_sales_price            219704 non-null  int64  \n",
      " 25  eye_clean                    62787 non-null   object \n",
      " 26  date                         219704 non-null  object \n",
      "dtypes: float64(6), int64(2), object(19)\n",
      "memory usage: 45.3+ MB\n"
     ]
    }
   ],
   "source": [
    "df.info()"
   ]
  },
  {
   "cell_type": "code",
   "execution_count": 8,
   "id": "f593e71a-0b1f-40c2-bbbe-3128b4f0ef2f",
   "metadata": {},
   "outputs": [
    {
     "data": {
      "text/plain": [
       "diamond_id                      0.000000\n",
       "shape                           0.000000\n",
       "size                            0.000000\n",
       "color                           4.170156\n",
       "fancy_color_dominant_color     95.828933\n",
       "fancy_color_secondary_color    99.516622\n",
       "fancy_color_overtone           99.072388\n",
       "fancy_color_intensity          95.829844\n",
       "clarity                         0.000000\n",
       "cut                            27.585752\n",
       "symmetry                        0.000000\n",
       "polish                          0.000000\n",
       "depth_percent                   0.000000\n",
       "table_percent                   0.000000\n",
       "meas_length                     0.000000\n",
       "meas_width                      0.000000\n",
       "meas_depth                      0.000000\n",
       "girdle_min                     37.975185\n",
       "girdle_max                     38.367986\n",
       "culet_size                     39.025689\n",
       "culet_condition                93.027437\n",
       "fluor_color                    92.842188\n",
       "fluor_intensity                 0.058260\n",
       "lab                             0.000000\n",
       "total_sales_price               0.000000\n",
       "eye_clean                      71.422004\n",
       "date                            0.000000\n",
       "dtype: float64"
      ]
     },
     "execution_count": 8,
     "metadata": {},
     "output_type": "execute_result"
    }
   ],
   "source": [
    "df.isnull().sum() / df.shape[0] * 100"
   ]
  },
  {
   "cell_type": "code",
   "execution_count": 9,
   "id": "bd48e1c0-3c07-4095-8243-0f16a5d5ec61",
   "metadata": {},
   "outputs": [],
   "source": [
    "nb_columns = ['size', 'depth_percent', 'table_percent', 'meas_length', 'meas_width', 'meas_depth', 'total_sales_price']"
   ]
  },
  {
   "cell_type": "code",
   "execution_count": 10,
   "id": "3971c217-a576-4a8a-9c29-8fdb6a43c7e7",
   "metadata": {},
   "outputs": [],
   "source": [
    "cat_columns = ['shape', 'color', 'clarity', 'cut', 'symmetry', 'polish', 'girdle_min', 'girdle_max', 'culet_size', 'fluor_intensity', 'lab']"
   ]
  },
  {
   "cell_type": "code",
   "execution_count": 11,
   "id": "bdfeed72-d677-46f7-81a3-5e90ef7ce471",
   "metadata": {},
   "outputs": [
    {
     "data": {
      "text/html": [
       "<div>\n",
       "<style scoped>\n",
       "    .dataframe tbody tr th:only-of-type {\n",
       "        vertical-align: middle;\n",
       "    }\n",
       "\n",
       "    .dataframe tbody tr th {\n",
       "        vertical-align: top;\n",
       "    }\n",
       "\n",
       "    .dataframe thead th {\n",
       "        text-align: right;\n",
       "    }\n",
       "</style>\n",
       "<table border=\"1\" class=\"dataframe\">\n",
       "  <thead>\n",
       "    <tr style=\"text-align: right;\">\n",
       "      <th></th>\n",
       "      <th>diamond_id</th>\n",
       "      <th>size</th>\n",
       "      <th>depth_percent</th>\n",
       "      <th>table_percent</th>\n",
       "      <th>meas_length</th>\n",
       "      <th>meas_width</th>\n",
       "      <th>meas_depth</th>\n",
       "      <th>total_sales_price</th>\n",
       "    </tr>\n",
       "  </thead>\n",
       "  <tbody>\n",
       "    <tr>\n",
       "      <th>count</th>\n",
       "      <td>2.197040e+05</td>\n",
       "      <td>219704.000000</td>\n",
       "      <td>219704.000000</td>\n",
       "      <td>219704.000000</td>\n",
       "      <td>219704.000000</td>\n",
       "      <td>219704.000000</td>\n",
       "      <td>219704.000000</td>\n",
       "      <td>2.197040e+05</td>\n",
       "    </tr>\n",
       "    <tr>\n",
       "      <th>mean</th>\n",
       "      <td>1.281166e+08</td>\n",
       "      <td>0.755176</td>\n",
       "      <td>61.683794</td>\n",
       "      <td>57.747579</td>\n",
       "      <td>5.548867</td>\n",
       "      <td>5.135623</td>\n",
       "      <td>3.285698</td>\n",
       "      <td>6.908035e+03</td>\n",
       "    </tr>\n",
       "    <tr>\n",
       "      <th>std</th>\n",
       "      <td>1.320737e+07</td>\n",
       "      <td>0.845892</td>\n",
       "      <td>9.915251</td>\n",
       "      <td>9.959906</td>\n",
       "      <td>1.763932</td>\n",
       "      <td>1.374527</td>\n",
       "      <td>2.054817</td>\n",
       "      <td>2.595944e+04</td>\n",
       "    </tr>\n",
       "    <tr>\n",
       "      <th>min</th>\n",
       "      <td>9.666855e+06</td>\n",
       "      <td>0.080000</td>\n",
       "      <td>0.000000</td>\n",
       "      <td>0.000000</td>\n",
       "      <td>0.000000</td>\n",
       "      <td>0.000000</td>\n",
       "      <td>0.000000</td>\n",
       "      <td>2.000000e+02</td>\n",
       "    </tr>\n",
       "    <tr>\n",
       "      <th>25%</th>\n",
       "      <td>1.275641e+08</td>\n",
       "      <td>0.310000</td>\n",
       "      <td>61.200000</td>\n",
       "      <td>57.000000</td>\n",
       "      <td>4.350000</td>\n",
       "      <td>4.310000</td>\n",
       "      <td>2.680000</td>\n",
       "      <td>9.580000e+02</td>\n",
       "    </tr>\n",
       "    <tr>\n",
       "      <th>50%</th>\n",
       "      <td>1.326076e+08</td>\n",
       "      <td>0.500000</td>\n",
       "      <td>62.400000</td>\n",
       "      <td>58.000000</td>\n",
       "      <td>5.060000</td>\n",
       "      <td>4.800000</td>\n",
       "      <td>3.030000</td>\n",
       "      <td>1.970000e+03</td>\n",
       "    </tr>\n",
       "    <tr>\n",
       "      <th>75%</th>\n",
       "      <td>1.348523e+08</td>\n",
       "      <td>1.000000</td>\n",
       "      <td>63.500000</td>\n",
       "      <td>60.000000</td>\n",
       "      <td>6.350000</td>\n",
       "      <td>5.700000</td>\n",
       "      <td>3.630000</td>\n",
       "      <td>5.207000e+03</td>\n",
       "    </tr>\n",
       "    <tr>\n",
       "      <th>max</th>\n",
       "      <td>1.361475e+08</td>\n",
       "      <td>19.350000</td>\n",
       "      <td>98.700000</td>\n",
       "      <td>94.000000</td>\n",
       "      <td>93.660000</td>\n",
       "      <td>62.300000</td>\n",
       "      <td>76.300000</td>\n",
       "      <td>1.449881e+06</td>\n",
       "    </tr>\n",
       "  </tbody>\n",
       "</table>\n",
       "</div>"
      ],
      "text/plain": [
       "         diamond_id           size  depth_percent  table_percent  \\\n",
       "count  2.197040e+05  219704.000000  219704.000000  219704.000000   \n",
       "mean   1.281166e+08       0.755176      61.683794      57.747579   \n",
       "std    1.320737e+07       0.845892       9.915251       9.959906   \n",
       "min    9.666855e+06       0.080000       0.000000       0.000000   \n",
       "25%    1.275641e+08       0.310000      61.200000      57.000000   \n",
       "50%    1.326076e+08       0.500000      62.400000      58.000000   \n",
       "75%    1.348523e+08       1.000000      63.500000      60.000000   \n",
       "max    1.361475e+08      19.350000      98.700000      94.000000   \n",
       "\n",
       "         meas_length     meas_width     meas_depth  total_sales_price  \n",
       "count  219704.000000  219704.000000  219704.000000       2.197040e+05  \n",
       "mean        5.548867       5.135623       3.285698       6.908035e+03  \n",
       "std         1.763932       1.374527       2.054817       2.595944e+04  \n",
       "min         0.000000       0.000000       0.000000       2.000000e+02  \n",
       "25%         4.350000       4.310000       2.680000       9.580000e+02  \n",
       "50%         5.060000       4.800000       3.030000       1.970000e+03  \n",
       "75%         6.350000       5.700000       3.630000       5.207000e+03  \n",
       "max        93.660000      62.300000      76.300000       1.449881e+06  "
      ]
     },
     "execution_count": 11,
     "metadata": {},
     "output_type": "execute_result"
    }
   ],
   "source": [
    "df.describe()"
   ]
  },
  {
   "cell_type": "code",
   "execution_count": 12,
   "id": "eb99c2d5-fa7a-4fc6-ba7d-840b7deded80",
   "metadata": {},
   "outputs": [
    {
     "data": {
      "text/plain": [
       "array(['E', 'F', 'L', 'D', 'J', 'I', 'G', 'H', 'M', 'K', nan],\n",
       "      dtype=object)"
      ]
     },
     "execution_count": 12,
     "metadata": {},
     "output_type": "execute_result"
    }
   ],
   "source": [
    "df.color.unique()"
   ]
  },
  {
   "cell_type": "code",
   "execution_count": 13,
   "id": "0ee9548d-5bad-4bcf-9b31-1f72a8ee07ba",
   "metadata": {},
   "outputs": [
    {
     "data": {
      "text/plain": [
       "array(['Round', 'Pear', 'Oval', 'Marquise', 'Princess', 'Emerald',\n",
       "       'Heart', 'Cushion', 'Radiant', 'Cushion Modified', 'Asscher'],\n",
       "      dtype=object)"
      ]
     },
     "execution_count": 13,
     "metadata": {},
     "output_type": "execute_result"
    }
   ],
   "source": [
    "df['shape'].unique()"
   ]
  },
  {
   "cell_type": "code",
   "execution_count": 39,
   "id": "04e575b3-b53e-4389-8f50-a573d57cbe5f",
   "metadata": {},
   "outputs": [
    {
     "name": "stderr",
     "output_type": "stream",
     "text": [
      "/usr/local/lib/python3.8/dist-packages/seaborn/_decorators.py:36: FutureWarning: Pass the following variables as keyword args: x, y. From version 0.12, the only valid positional argument will be `data`, and passing other arguments without an explicit keyword will result in an error or misinterpretation.\n",
      "  warnings.warn(\n"
     ]
    },
    {
     "data": {
      "image/png": "[encoded data removed]",
      "text/plain": [
       "<Figure size 432x288 with 1 Axes>"
      ]
     },
     "metadata": {
      "needs_background": "light"
     },
     "output_type": "display_data"
    },
    {
     "name": "stderr",
     "output_type": "stream",
     "text": [
      "/usr/local/lib/python3.8/dist-packages/seaborn/_decorators.py:36: FutureWarning: Pass the following variables as keyword args: x, y. From version 0.12, the only valid positional argument will be `data`, and passing other arguments without an explicit keyword will result in an error or misinterpretation.\n",
      "  warnings.warn(\n"
     ]
    },
    {
     "data": {
      "image/png": "[encoded data removed]",
      "text/plain": [
       "<Figure size 432x288 with 1 Axes>"
      ]
     },
     "metadata": {
      "needs_background": "light"
     },
     "output_type": "display_data"
    },
    {
     "name": "stderr",
     "output_type": "stream",
     "text": [
      "/usr/local/lib/python3.8/dist-packages/seaborn/_decorators.py:36: FutureWarning: Pass the following variables as keyword args: x, y. From version 0.12, the only valid positional argument will be `data`, and passing other arguments without an explicit keyword will result in an error or misinterpretation.\n",
      "  warnings.warn(\n"
     ]
    },
    {
     "data": {
      "image/png": "[encoded data removed]",
      "text/plain": [
       "<Figure size 432x288 with 1 Axes>"
      ]
     },
     "metadata": {
      "needs_background": "light"
     },
     "output_type": "display_data"
    },
    {
     "name": "stderr",
     "output_type": "stream",
     "text": [
      "/usr/local/lib/python3.8/dist-packages/seaborn/_decorators.py:36: FutureWarning: Pass the following variables as keyword args: x, y. From version 0.12, the only valid positional argument will be `data`, and passing other arguments without an explicit keyword will result in an error or misinterpretation.\n",
      "  warnings.warn(\n"
     ]
    },
    {
     "data": {
      "image/png": "[encoded data removed]",
      "text/plain": [
       "<Figure size 432x288 with 1 Axes>"
      ]
     },
     "metadata": {
      "needs_background": "light"
     },
     "output_type": "display_data"
    },
    {
     "name": "stderr",
     "output_type": "stream",
     "text": [
      "/usr/local/lib/python3.8/dist-packages/seaborn/_decorators.py:36: FutureWarning: Pass the following variables as keyword args: x, y. From version 0.12, the only valid positional argument will be `data`, and passing other arguments without an explicit keyword will result in an error or misinterpretation.\n",
      "  warnings.warn(\n"
     ]
    },
    {
     "data": {
      "image/png": "[encoded data removed]",
      "text/plain": [
       "<Figure size 432x288 with 1 Axes>"
      ]
     },
     "metadata": {
      "needs_background": "light"
     },
     "output_type": "display_data"
    },
    {
     "name": "stderr",
     "output_type": "stream",
     "text": [
      "/usr/local/lib/python3.8/dist-packages/seaborn/_decorators.py:36: FutureWarning: Pass the following variables as keyword args: x, y. From version 0.12, the only valid positional argument will be `data`, and passing other arguments without an explicit keyword will result in an error or misinterpretation.\n",
      "  warnings.warn(\n"
     ]
    },
    {
     "data": {
      "image/png": "[encoded data removed]",
      "text/plain": [
       "<Figure size 432x288 with 1 Axes>"
      ]
     },
     "metadata": {
      "needs_background": "light"
     },
     "output_type": "display_data"
    },
    {
     "name": "stderr",
     "output_type": "stream",
     "text": [
      "/usr/local/lib/python3.8/dist-packages/seaborn/_decorators.py:36: FutureWarning: Pass the following variables as keyword args: x, y. From version 0.12, the only valid positional argument will be `data`, and passing other arguments without an explicit keyword will result in an error or misinterpretation.\n",
      "  warnings.warn(\n"
     ]
    },
    {
     "data": {
      "image/png": "[encoded data removed]",
      "text/plain": [
       "<Figure size 432x288 with 1 Axes>"
      ]
     },
     "metadata": {
      "needs_background": "light"
     },
     "output_type": "display_data"
    },
    {
     "name": "stderr",
     "output_type": "stream",
     "text": [
      "/usr/local/lib/python3.8/dist-packages/seaborn/_decorators.py:36: FutureWarning: Pass the following variables as keyword args: x, y. From version 0.12, the only valid positional argument will be `data`, and passing other arguments without an explicit keyword will result in an error or misinterpretation.\n",
      "  warnings.warn(\n"
     ]
    },
    {
     "data": {
      "image/png": "[encoded data removed]",
      "text/plain": [
       "<Figure size 432x288 with 1 Axes>"
      ]
     },
     "metadata": {
      "needs_background": "light"
     },
     "output_type": "display_data"
    },
    {
     "name": "stderr",
     "output_type": "stream",
     "text": [
      "/usr/local/lib/python3.8/dist-packages/seaborn/_decorators.py:36: FutureWarning: Pass the following variables as keyword args: x, y. From version 0.12, the only valid positional argument will be `data`, and passing other arguments without an explicit keyword will result in an error or misinterpretation.\n",
      "  warnings.warn(\n"
     ]
    },
    {
     "data": {
      "image/png": "[encoded data removed]",
      "text/plain": [
       "<Figure size 432x288 with 1 Axes>"
      ]
     },
     "metadata": {
      "needs_background": "light"
     },
     "output_type": "display_data"
    },
    {
     "name": "stderr",
     "output_type": "stream",
     "text": [
      "/usr/local/lib/python3.8/dist-packages/seaborn/_decorators.py:36: FutureWarning: Pass the following variables as keyword args: x, y. From version 0.12, the only valid positional argument will be `data`, and passing other arguments without an explicit keyword will result in an error or misinterpretation.\n",
      "  warnings.warn(\n"
     ]
    },
    {
     "data": {
      "image/png": "[encoded data removed]",
      "text/plain": [
       "<Figure size 432x288 with 1 Axes>"
      ]
     },
     "metadata": {
      "needs_background": "light"
     },
     "output_type": "display_data"
    },
    {
     "name": "stderr",
     "output_type": "stream",
     "text": [
      "/usr/local/lib/python3.8/dist-packages/seaborn/_decorators.py:36: FutureWarning: Pass the following variables as keyword args: x, y. From version 0.12, the only valid positional argument will be `data`, and passing other arguments without an explicit keyword will result in an error or misinterpretation.\n",
      "  warnings.warn(\n"
     ]
    },
    {
     "data": {
      "image/png": "[encoded data removed]",
      "text/plain": [
       "<Figure size 432x288 with 1 Axes>"
      ]
     },
     "metadata": {
      "needs_background": "light"
     },
     "output_type": "display_data"
    }
   ],
   "source": [
    "for name in cat_columns:\n",
    "    sbn.barplot(df[name].value_counts().index, df[name].value_counts()).set_title(name)\n",
    "    plt.show()"
   ]
  },
  {
   "cell_type": "markdown",
   "id": "2910d49c-d073-415f-a2f3-37304537cce5",
   "metadata": {},
   "source": [
    "*color values are coded E been nearly colorless to M been Light Yellow color*\n",
    "\n",
    "Refer to the link for more info https://australiandiamondimporters.com.au/colour/"
   ]
  },
  {
   "cell_type": "code",
   "execution_count": 17,
   "id": "e967248c-5d45-4485-84dc-d98efc4772e5",
   "metadata": {},
   "outputs": [
    {
     "data": {
      "text/plain": [
       "array(['2022-02-24'], dtype=object)"
      ]
     },
     "execution_count": 17,
     "metadata": {},
     "output_type": "execute_result"
    }
   ],
   "source": [
    "df['date'].unique()"
   ]
  },
  {
   "cell_type": "code",
   "execution_count": 25,
   "id": "48b5f8b9-4ca6-4883-82ba-0b825add7b77",
   "metadata": {},
   "outputs": [
    {
     "data": {
      "image/png": "[encoded data removed]",
      "text/plain": [
       "<Figure size 432x288 with 1 Axes>"
      ]
     },
     "metadata": {
      "needs_background": "light"
     },
     "output_type": "display_data"
    },
    {
     "data": {
      "image/png": "[encoded data removed]",
      "text/plain": [
       "<Figure size 432x288 with 1 Axes>"
      ]
     },
     "metadata": {
      "needs_background": "light"
     },
     "output_type": "display_data"
    },
    {
     "data": {
      "image/png": "[encoded data removed]",
      "text/plain": [
       "<Figure size 432x288 with 1 Axes>"
      ]
     },
     "metadata": {
      "needs_background": "light"
     },
     "output_type": "display_data"
    },
    {
     "data": {
      "image/png": "[encoded data removed]",
      "text/plain": [
       "<Figure size 432x288 with 1 Axes>"
      ]
     },
     "metadata": {
      "needs_background": "light"
     },
     "output_type": "display_data"
    },
    {
     "data": {
      "image/png": "[encoded data removed]",
      "text/plain": [
       "<Figure size 432x288 with 1 Axes>"
      ]
     },
     "metadata": {
      "needs_background": "light"
     },
     "output_type": "display_data"
    },
    {
     "data": {
      "image/png": "[encoded data removed]",
      "text/plain": [
       "<Figure size 432x288 with 1 Axes>"
      ]
     },
     "metadata": {
      "needs_background": "light"
     },
     "output_type": "display_data"
    },
    {
     "data": {
      "image/png": "[encoded data removed]",
      "text/plain": [
       "<Figure size 432x288 with 1 Axes>"
      ]
     },
     "metadata": {
      "needs_background": "light"
     },
     "output_type": "display_data"
    }
   ],
   "source": [
    "for name in nb_columns:\n",
    "    plt.hist(df[name])\n",
    "    plt.title(name)\n",
    "    plt.show()"
   ]
  },
  {
   "cell_type": "code",
   "execution_count": 34,
   "id": "5ca6f558-0b43-4b27-abe2-fae764ac98bb",
   "metadata": {},
   "outputs": [
    {
     "name": "stdout",
     "output_type": "stream",
     "text": [
      "                       size  depth_percent  table_percent  meas_length  \\\n",
      "size               1.000000       0.061724       0.090697     0.782678   \n",
      "depth_percent      0.061724       1.000000       0.673834     0.128795   \n",
      "table_percent      0.090697       0.673834       1.000000     0.165740   \n",
      "meas_length        0.782678       0.128795       0.165740     1.000000   \n",
      "meas_width         0.788911       0.119690       0.141251     0.788643   \n",
      "meas_depth         0.350719       0.086477       0.082533     0.342206   \n",
      "total_sales_price  0.745963       0.025407       0.045192     0.489212   \n",
      "\n",
      "                   meas_width  meas_depth  total_sales_price  \n",
      "size                 0.788911    0.350719           0.745963  \n",
      "depth_percent        0.119690    0.086477           0.025407  \n",
      "table_percent        0.141251    0.082533           0.045192  \n",
      "meas_length          0.788643    0.342206           0.489212  \n",
      "meas_width           1.000000    0.412933           0.506403  \n",
      "meas_depth           0.412933    1.000000           0.216410  \n",
      "total_sales_price    0.506403    0.216410           1.000000  \n"
     ]
    },
    {
     "data": {
      "text/plain": [
       "<AxesSubplot:>"
      ]
     },
     "execution_count": 34,
     "metadata": {},
     "output_type": "execute_result"
    },
    {
     "data": {
      "image/png": "[encoded data removed]",
      "text/plain": [
       "<Figure size 432x288 with 2 Axes>"
      ]
     },
     "metadata": {
      "needs_background": "light"
     },
     "output_type": "display_data"
    }
   ],
   "source": [
    "corr = df[nb_columns].corr()\n",
    "print(corr)\n",
    "sbn.heatmap(corr)"
   ]
  },
  {
   "cell_type": "code",
   "execution_count": 37,
   "id": "8eefa40d-0a9d-4b47-bb44-9d1a4380da68",
   "metadata": {},
   "outputs": [
    {
     "data": {
      "text/html": [
       "<div>\n",
       "<style scoped>\n",
       "    .dataframe tbody tr th:only-of-type {\n",
       "        vertical-align: middle;\n",
       "    }\n",
       "\n",
       "    .dataframe tbody tr th {\n",
       "        vertical-align: top;\n",
       "    }\n",
       "\n",
       "    .dataframe thead th {\n",
       "        text-align: right;\n",
       "    }\n",
       "</style>\n",
       "<table border=\"1\" class=\"dataframe\">\n",
       "  <thead>\n",
       "    <tr style=\"text-align: right;\">\n",
       "      <th></th>\n",
       "      <th>depth_percent</th>\n",
       "      <th>meas_depth</th>\n",
       "      <th>meas_length</th>\n",
       "      <th>size</th>\n",
       "      <th>table_percent</th>\n",
       "      <th>total_sales_price</th>\n",
       "    </tr>\n",
       "    <tr>\n",
       "      <th>color</th>\n",
       "      <th></th>\n",
       "      <th></th>\n",
       "      <th></th>\n",
       "      <th></th>\n",
       "      <th></th>\n",
       "      <th></th>\n",
       "    </tr>\n",
       "  </thead>\n",
       "  <tbody>\n",
       "    <tr>\n",
       "      <th>D</th>\n",
       "      <td>61.231186</td>\n",
       "      <td>3.106160</td>\n",
       "      <td>5.293544</td>\n",
       "      <td>0.602201</td>\n",
       "      <td>57.760278</td>\n",
       "      <td>6262.167039</td>\n",
       "    </tr>\n",
       "    <tr>\n",
       "      <th>E</th>\n",
       "      <td>61.540431</td>\n",
       "      <td>3.043891</td>\n",
       "      <td>5.126603</td>\n",
       "      <td>0.575415</td>\n",
       "      <td>57.758079</td>\n",
       "      <td>5321.490409</td>\n",
       "    </tr>\n",
       "    <tr>\n",
       "      <th>F</th>\n",
       "      <td>61.814544</td>\n",
       "      <td>3.119244</td>\n",
       "      <td>5.239681</td>\n",
       "      <td>0.619203</td>\n",
       "      <td>58.019430</td>\n",
       "      <td>5603.393937</td>\n",
       "    </tr>\n",
       "    <tr>\n",
       "      <th>G</th>\n",
       "      <td>61.791670</td>\n",
       "      <td>3.313631</td>\n",
       "      <td>5.544818</td>\n",
       "      <td>0.738774</td>\n",
       "      <td>57.831182</td>\n",
       "      <td>7156.929927</td>\n",
       "    </tr>\n",
       "    <tr>\n",
       "      <th>H</th>\n",
       "      <td>61.655636</td>\n",
       "      <td>3.412600</td>\n",
       "      <td>5.695249</td>\n",
       "      <td>0.810581</td>\n",
       "      <td>57.899200</td>\n",
       "      <td>7598.123308</td>\n",
       "    </tr>\n",
       "    <tr>\n",
       "      <th>I</th>\n",
       "      <td>61.544424</td>\n",
       "      <td>3.429789</td>\n",
       "      <td>5.741356</td>\n",
       "      <td>0.833787</td>\n",
       "      <td>57.757178</td>\n",
       "      <td>6853.358165</td>\n",
       "    </tr>\n",
       "    <tr>\n",
       "      <th>J</th>\n",
       "      <td>61.789218</td>\n",
       "      <td>3.495683</td>\n",
       "      <td>5.911993</td>\n",
       "      <td>0.902478</td>\n",
       "      <td>57.874456</td>\n",
       "      <td>6489.142680</td>\n",
       "    </tr>\n",
       "    <tr>\n",
       "      <th>K</th>\n",
       "      <td>61.856485</td>\n",
       "      <td>3.492805</td>\n",
       "      <td>5.922588</td>\n",
       "      <td>0.940874</td>\n",
       "      <td>57.588900</td>\n",
       "      <td>6280.997277</td>\n",
       "    </tr>\n",
       "    <tr>\n",
       "      <th>L</th>\n",
       "      <td>61.730653</td>\n",
       "      <td>3.597047</td>\n",
       "      <td>6.088457</td>\n",
       "      <td>1.026843</td>\n",
       "      <td>57.524088</td>\n",
       "      <td>5949.089917</td>\n",
       "    </tr>\n",
       "    <tr>\n",
       "      <th>M</th>\n",
       "      <td>61.016273</td>\n",
       "      <td>3.699767</td>\n",
       "      <td>6.232244</td>\n",
       "      <td>1.126145</td>\n",
       "      <td>56.765932</td>\n",
       "      <td>5985.577428</td>\n",
       "    </tr>\n",
       "  </tbody>\n",
       "</table>\n",
       "</div>"
      ],
      "text/plain": [
       "       depth_percent  meas_depth  meas_length      size  table_percent  \\\n",
       "color                                                                    \n",
       "D          61.231186    3.106160     5.293544  0.602201      57.760278   \n",
       "E          61.540431    3.043891     5.126603  0.575415      57.758079   \n",
       "F          61.814544    3.119244     5.239681  0.619203      58.019430   \n",
       "G          61.791670    3.313631     5.544818  0.738774      57.831182   \n",
       "H          61.655636    3.412600     5.695249  0.810581      57.899200   \n",
       "I          61.544424    3.429789     5.741356  0.833787      57.757178   \n",
       "J          61.789218    3.495683     5.911993  0.902478      57.874456   \n",
       "K          61.856485    3.492805     5.922588  0.940874      57.588900   \n",
       "L          61.730653    3.597047     6.088457  1.026843      57.524088   \n",
       "M          61.016273    3.699767     6.232244  1.126145      56.765932   \n",
       "\n",
       "       total_sales_price  \n",
       "color                     \n",
       "D            6262.167039  \n",
       "E            5321.490409  \n",
       "F            5603.393937  \n",
       "G            7156.929927  \n",
       "H            7598.123308  \n",
       "I            6853.358165  \n",
       "J            6489.142680  \n",
       "K            6280.997277  \n",
       "L            5949.089917  \n",
       "M            5985.577428  "
      ]
     },
     "execution_count": 37,
     "metadata": {},
     "output_type": "execute_result"
    }
   ],
   "source": [
    "pd.pivot_table(df, index=\"color\", values=[\"size\", \"depth_percent\", \"table_percent\", \"meas_length\", \"meas_depth\", \"total_sales_price\"])"
   ]
  },
  {
   "cell_type": "code",
   "execution_count": 38,
   "id": "536d00fc-126b-4b87-a087-e1c808c9e0be",
   "metadata": {},
   "outputs": [
    {
     "data": {
      "text/html": [
       "<div>\n",
       "<style scoped>\n",
       "    .dataframe tbody tr th:only-of-type {\n",
       "        vertical-align: middle;\n",
       "    }\n",
       "\n",
       "    .dataframe tbody tr th {\n",
       "        vertical-align: top;\n",
       "    }\n",
       "\n",
       "    .dataframe thead th {\n",
       "        text-align: right;\n",
       "    }\n",
       "</style>\n",
       "<table border=\"1\" class=\"dataframe\">\n",
       "  <thead>\n",
       "    <tr style=\"text-align: right;\">\n",
       "      <th></th>\n",
       "      <th>depth_percent</th>\n",
       "      <th>meas_depth</th>\n",
       "      <th>meas_length</th>\n",
       "      <th>size</th>\n",
       "      <th>table_percent</th>\n",
       "      <th>total_sales_price</th>\n",
       "    </tr>\n",
       "    <tr>\n",
       "      <th>cut</th>\n",
       "      <th></th>\n",
       "      <th></th>\n",
       "      <th></th>\n",
       "      <th></th>\n",
       "      <th></th>\n",
       "      <th></th>\n",
       "    </tr>\n",
       "  </thead>\n",
       "  <tbody>\n",
       "    <tr>\n",
       "      <th>Excellent</th>\n",
       "      <td>60.694987</td>\n",
       "      <td>3.204699</td>\n",
       "      <td>5.097784</td>\n",
       "      <td>0.624565</td>\n",
       "      <td>56.490474</td>\n",
       "      <td>5414.221510</td>\n",
       "    </tr>\n",
       "    <tr>\n",
       "      <th>Fair</th>\n",
       "      <td>63.320000</td>\n",
       "      <td>3.728000</td>\n",
       "      <td>5.866000</td>\n",
       "      <td>0.878000</td>\n",
       "      <td>61.100000</td>\n",
       "      <td>2848.600000</td>\n",
       "    </tr>\n",
       "    <tr>\n",
       "      <th>Good</th>\n",
       "      <td>62.814286</td>\n",
       "      <td>3.934286</td>\n",
       "      <td>7.505714</td>\n",
       "      <td>1.395714</td>\n",
       "      <td>59.571429</td>\n",
       "      <td>8481.714286</td>\n",
       "    </tr>\n",
       "    <tr>\n",
       "      <th>Ideal</th>\n",
       "      <td>69.800000</td>\n",
       "      <td>3.330000</td>\n",
       "      <td>6.250000</td>\n",
       "      <td>0.900000</td>\n",
       "      <td>64.000000</td>\n",
       "      <td>3767.000000</td>\n",
       "    </tr>\n",
       "    <tr>\n",
       "      <th>None</th>\n",
       "      <td>67.400000</td>\n",
       "      <td>3.020000</td>\n",
       "      <td>8.580000</td>\n",
       "      <td>0.700000</td>\n",
       "      <td>56.500000</td>\n",
       "      <td>966.000000</td>\n",
       "    </tr>\n",
       "    <tr>\n",
       "      <th>Very Good</th>\n",
       "      <td>60.797465</td>\n",
       "      <td>3.267035</td>\n",
       "      <td>5.069250</td>\n",
       "      <td>0.623100</td>\n",
       "      <td>56.256209</td>\n",
       "      <td>4051.584252</td>\n",
       "    </tr>\n",
       "  </tbody>\n",
       "</table>\n",
       "</div>"
      ],
      "text/plain": [
       "           depth_percent  meas_depth  meas_length      size  table_percent  \\\n",
       "cut                                                                          \n",
       "Excellent      60.694987    3.204699     5.097784  0.624565      56.490474   \n",
       "Fair           63.320000    3.728000     5.866000  0.878000      61.100000   \n",
       "Good           62.814286    3.934286     7.505714  1.395714      59.571429   \n",
       "Ideal          69.800000    3.330000     6.250000  0.900000      64.000000   \n",
       "None           67.400000    3.020000     8.580000  0.700000      56.500000   \n",
       "Very Good      60.797465    3.267035     5.069250  0.623100      56.256209   \n",
       "\n",
       "           total_sales_price  \n",
       "cut                           \n",
       "Excellent        5414.221510  \n",
       "Fair             2848.600000  \n",
       "Good             8481.714286  \n",
       "Ideal            3767.000000  \n",
       "None              966.000000  \n",
       "Very Good        4051.584252  "
      ]
     },
     "execution_count": 38,
     "metadata": {},
     "output_type": "execute_result"
    }
   ],
   "source": [
    "pd.pivot_table(df, index=\"cut\", values=[\"size\", \"depth_percent\", \"table_percent\", \"meas_length\", \"meas_depth\", \"total_sales_price\"])"
   ]
  },
  {
   "cell_type": "markdown",
   "id": "59ac92a1-6611-4292-a910-193f8b890387",
   "metadata": {},
   "source": [
    "## Observations:\n",
    "\n",
    "### Missing values\n",
    "- fancy_color columns, culet_condition, fluor_color and eye_clean columns have more than 70% missing values so I will discard them for this analysis\n",
    "- cut, girdle_min, girdle_max and culet_size has around 30% missing values, might need some data processing\n",
    "- fluor_intensity, color have really small missing value that need to be handled\n",
    "\n",
    "### Feature\n",
    "- Round shape diamond are dominant\n",
    "- most diamonds tends to be colorless color\n",
    "- prices from 200 USD -> 1.4M USD (excluding taxes)\n",
    "- date has only one value feb 2022 can be discarded\n",
    "- price is mostly correlated to size meas_width, meas_length"
   ]
  },
  {
   "cell_type": "markdown",
   "id": "e7bf9145-251f-48d4-95ff-9f49052f739e",
   "metadata": {},
   "source": [
    "# Data Manipulation"
   ]
  },
  {
   "cell_type": "code",
   "execution_count": 18,
   "id": "53db7b3c-c3d9-49f3-8128-5f7f17a28dff",
   "metadata": {},
   "outputs": [],
   "source": [
    "df2 = df.drop(columns = [\"fancy_color_dominant_color\", \"fancy_color_secondary_color\", \"fancy_color_overtone\", \"fancy_color_intensity\", \"culet_condition\", \"fluor_color\", \"eye_clean\", \"date\"])"
   ]
  },
  {
   "cell_type": "code",
   "execution_count": 19,
   "id": "dd72c1d7-8a40-400e-997d-9690934cfd67",
   "metadata": {},
   "outputs": [
    {
     "data": {
      "text/plain": [
       "Index(['diamond_id', 'shape', 'size', 'color', 'clarity', 'cut', 'symmetry',\n",
       "       'polish', 'depth_percent', 'table_percent', 'meas_length', 'meas_width',\n",
       "       'meas_depth', 'girdle_min', 'girdle_max', 'culet_size',\n",
       "       'fluor_intensity', 'lab', 'total_sales_price'],\n",
       "      dtype='object')"
      ]
     },
     "execution_count": 19,
     "metadata": {},
     "output_type": "execute_result"
    }
   ],
   "source": [
    "df2.columns"
   ]
  },
  {
   "cell_type": "code",
   "execution_count": 45,
   "id": "f950c8d8-a22b-4ec2-9d58-31653413d4e4",
   "metadata": {},
   "outputs": [],
   "source": [
    "df2[\"is_expensive\"] = df2[\"total_sales_price\"].apply(lambda x: 1 if x > df2[\"total_sales_price\"].mean() else 0)"
   ]
  },
  {
   "cell_type": "code",
   "execution_count": 49,
   "id": "2bba2705-cd6b-4da1-bcb8-d1c7d4faf06e",
   "metadata": {},
   "outputs": [
    {
     "data": {
      "text/html": [
       "<div>\n",
       "<style scoped>\n",
       "    .dataframe tbody tr th:only-of-type {\n",
       "        vertical-align: middle;\n",
       "    }\n",
       "\n",
       "    .dataframe tbody tr th {\n",
       "        vertical-align: top;\n",
       "    }\n",
       "\n",
       "    .dataframe thead th {\n",
       "        text-align: right;\n",
       "    }\n",
       "</style>\n",
       "<table border=\"1\" class=\"dataframe\">\n",
       "  <thead>\n",
       "    <tr style=\"text-align: right;\">\n",
       "      <th></th>\n",
       "      <th>depth_percent</th>\n",
       "      <th>meas_depth</th>\n",
       "      <th>meas_length</th>\n",
       "      <th>size</th>\n",
       "      <th>table_percent</th>\n",
       "    </tr>\n",
       "    <tr>\n",
       "      <th>is_expensive</th>\n",
       "      <th></th>\n",
       "      <th></th>\n",
       "      <th></th>\n",
       "      <th></th>\n",
       "      <th></th>\n",
       "    </tr>\n",
       "  </thead>\n",
       "  <tbody>\n",
       "    <tr>\n",
       "      <th>0</th>\n",
       "      <td>61.376265</td>\n",
       "      <td>2.972471</td>\n",
       "      <td>4.974606</td>\n",
       "      <td>0.481441</td>\n",
       "      <td>57.298937</td>\n",
       "    </tr>\n",
       "    <tr>\n",
       "      <th>1</th>\n",
       "      <td>62.910061</td>\n",
       "      <td>4.534687</td>\n",
       "      <td>7.838726</td>\n",
       "      <td>1.846692</td>\n",
       "      <td>59.536534</td>\n",
       "    </tr>\n",
       "  </tbody>\n",
       "</table>\n",
       "</div>"
      ],
      "text/plain": [
       "              depth_percent  meas_depth  meas_length      size  table_percent\n",
       "is_expensive                                                                 \n",
       "0                 61.376265    2.972471     4.974606  0.481441      57.298937\n",
       "1                 62.910061    4.534687     7.838726  1.846692      59.536534"
      ]
     },
     "execution_count": 49,
     "metadata": {},
     "output_type": "execute_result"
    }
   ],
   "source": [
    "pd.pivot_table(df2, index=\"is_expensive\", values=[\"size\", \"depth_percent\", \"table_percent\", \"meas_length\", \"meas_depth\"])"
   ]
  },
  {
   "cell_type": "code",
   "execution_count": 50,
   "id": "7e80050c-563b-48c0-8c8d-c36825c80e23",
   "metadata": {},
   "outputs": [
    {
     "name": "stdout",
     "output_type": "stream",
     "text": [
      "color                    D             E             F             G  \\\n",
      "is_expensive                                                           \n",
      "0              1913.451021   1747.114611   1899.425636   2124.684808   \n",
      "1             28202.448404  26008.456018  24878.879914  25136.443121   \n",
      "\n",
      "color                    H             I             J             K  \\\n",
      "is_expensive                                                           \n",
      "0              2256.035355   2156.654058   2105.531832   1934.296411   \n",
      "1             25396.799468  24117.158060  23083.797508  26477.177319   \n",
      "\n",
      "color                    L             M  \n",
      "is_expensive                              \n",
      "0              2083.612889   2149.471545  \n",
      "1             24117.219659  22034.591837  \n",
      "\n"
     ]
    }
   ],
   "source": [
    "print(pd.pivot_table(df2, index=\"is_expensive\", columns=\"color\", values=\"total_sales_price\"))"
   ]
  },
  {
   "cell_type": "code",
   "execution_count": 51,
   "id": "1c68d4fd-0f58-4dc4-a8c7-20d8a60d041d",
   "metadata": {},
   "outputs": [],
   "source": [
    "df2[\"is_big\"] = df2[\"size\"].apply(lambda x: 1 if x > df2[\"size\"].mean() else 0)"
   ]
  },
  {
   "cell_type": "code",
   "execution_count": 56,
   "id": "38a970d6-b001-428f-9be3-585c0d4bb558",
   "metadata": {},
   "outputs": [
    {
     "data": {
      "text/html": [
       "<div>\n",
       "<style scoped>\n",
       "    .dataframe tbody tr th:only-of-type {\n",
       "        vertical-align: middle;\n",
       "    }\n",
       "\n",
       "    .dataframe tbody tr th {\n",
       "        vertical-align: top;\n",
       "    }\n",
       "\n",
       "    .dataframe thead th {\n",
       "        text-align: right;\n",
       "    }\n",
       "</style>\n",
       "<table border=\"1\" class=\"dataframe\">\n",
       "  <thead>\n",
       "    <tr style=\"text-align: right;\">\n",
       "      <th></th>\n",
       "      <th>diamond_id</th>\n",
       "      <th>shape</th>\n",
       "      <th>size</th>\n",
       "      <th>color</th>\n",
       "      <th>clarity</th>\n",
       "      <th>cut</th>\n",
       "      <th>symmetry</th>\n",
       "      <th>polish</th>\n",
       "      <th>depth_percent</th>\n",
       "      <th>table_percent</th>\n",
       "      <th>meas_length</th>\n",
       "      <th>meas_width</th>\n",
       "      <th>meas_depth</th>\n",
       "      <th>girdle_min</th>\n",
       "      <th>girdle_max</th>\n",
       "      <th>culet_size</th>\n",
       "      <th>fluor_intensity</th>\n",
       "      <th>lab</th>\n",
       "      <th>total_sales_price</th>\n",
       "      <th>is_expensive</th>\n",
       "    </tr>\n",
       "    <tr>\n",
       "      <th>is_big</th>\n",
       "      <th></th>\n",
       "      <th></th>\n",
       "      <th></th>\n",
       "      <th></th>\n",
       "      <th></th>\n",
       "      <th></th>\n",
       "      <th></th>\n",
       "      <th></th>\n",
       "      <th></th>\n",
       "      <th></th>\n",
       "      <th></th>\n",
       "      <th></th>\n",
       "      <th></th>\n",
       "      <th></th>\n",
       "      <th></th>\n",
       "      <th></th>\n",
       "      <th></th>\n",
       "      <th></th>\n",
       "      <th></th>\n",
       "      <th></th>\n",
       "    </tr>\n",
       "  </thead>\n",
       "  <tbody>\n",
       "    <tr>\n",
       "      <th>0</th>\n",
       "      <td>153272</td>\n",
       "      <td>153272</td>\n",
       "      <td>153272</td>\n",
       "      <td>149409</td>\n",
       "      <td>153272</td>\n",
       "      <td>125434</td>\n",
       "      <td>153272</td>\n",
       "      <td>153272</td>\n",
       "      <td>153272</td>\n",
       "      <td>153272</td>\n",
       "      <td>153272</td>\n",
       "      <td>153272</td>\n",
       "      <td>153272</td>\n",
       "      <td>92021</td>\n",
       "      <td>91709</td>\n",
       "      <td>91417</td>\n",
       "      <td>153243</td>\n",
       "      <td>153272</td>\n",
       "      <td>153272</td>\n",
       "      <td>153272</td>\n",
       "    </tr>\n",
       "    <tr>\n",
       "      <th>1</th>\n",
       "      <td>66432</td>\n",
       "      <td>66432</td>\n",
       "      <td>66432</td>\n",
       "      <td>61133</td>\n",
       "      <td>66432</td>\n",
       "      <td>33663</td>\n",
       "      <td>66432</td>\n",
       "      <td>66432</td>\n",
       "      <td>66432</td>\n",
       "      <td>66432</td>\n",
       "      <td>66432</td>\n",
       "      <td>66432</td>\n",
       "      <td>66432</td>\n",
       "      <td>44250</td>\n",
       "      <td>43699</td>\n",
       "      <td>42546</td>\n",
       "      <td>66333</td>\n",
       "      <td>66432</td>\n",
       "      <td>66432</td>\n",
       "      <td>66432</td>\n",
       "    </tr>\n",
       "  </tbody>\n",
       "</table>\n",
       "</div>"
      ],
      "text/plain": [
       "        diamond_id   shape    size   color  clarity     cut  symmetry  polish  \\\n",
       "is_big                                                                          \n",
       "0           153272  153272  153272  149409   153272  125434    153272  153272   \n",
       "1            66432   66432   66432   61133    66432   33663     66432   66432   \n",
       "\n",
       "        depth_percent  table_percent  meas_length  meas_width  meas_depth  \\\n",
       "is_big                                                                      \n",
       "0              153272         153272       153272      153272      153272   \n",
       "1               66432          66432        66432       66432       66432   \n",
       "\n",
       "        girdle_min  girdle_max  culet_size  fluor_intensity     lab  \\\n",
       "is_big                                                                \n",
       "0            92021       91709       91417           153243  153272   \n",
       "1            44250       43699       42546            66333   66432   \n",
       "\n",
       "        total_sales_price  is_expensive  \n",
       "is_big                                   \n",
       "0                  153272        153272  \n",
       "1                   66432         66432  "
      ]
     },
     "execution_count": 56,
     "metadata": {},
     "output_type": "execute_result"
    }
   ],
   "source": [
    "df2.groupby(['is_big']).count()"
   ]
  },
  {
   "cell_type": "code",
   "execution_count": 20,
   "id": "b9fda636-69c5-40df-991d-0253d8175aed",
   "metadata": {},
   "outputs": [],
   "source": [
    "# cat_columns been 'shape', 'color', 'clarity', 'cut', 'symmetry', 'polish', 'girdle_min', 'girdle_max', 'culet_size', 'fluor_intensity', 'lab'\n",
    "dummie_vars = pd.get_dummies(df2[cat_columns]).head(1000)"
   ]
  },
  {
   "cell_type": "code",
   "execution_count": 21,
   "id": "be4a517d-b36c-4ffb-a0aa-e75fbf5dc66d",
   "metadata": {},
   "outputs": [
    {
     "data": {
      "text/html": [
       "<div>\n",
       "<style scoped>\n",
       "    .dataframe tbody tr th:only-of-type {\n",
       "        vertical-align: middle;\n",
       "    }\n",
       "\n",
       "    .dataframe tbody tr th {\n",
       "        vertical-align: top;\n",
       "    }\n",
       "\n",
       "    .dataframe thead th {\n",
       "        text-align: right;\n",
       "    }\n",
       "</style>\n",
       "<table border=\"1\" class=\"dataframe\">\n",
       "  <thead>\n",
       "    <tr style=\"text-align: right;\">\n",
       "      <th></th>\n",
       "      <th>shape_Asscher</th>\n",
       "      <th>shape_Cushion</th>\n",
       "      <th>shape_Cushion Modified</th>\n",
       "      <th>shape_Emerald</th>\n",
       "      <th>shape_Heart</th>\n",
       "      <th>shape_Marquise</th>\n",
       "      <th>shape_Oval</th>\n",
       "      <th>shape_Pear</th>\n",
       "      <th>shape_Princess</th>\n",
       "      <th>shape_Radiant</th>\n",
       "      <th>...</th>\n",
       "      <th>fluor_intensity_Faint</th>\n",
       "      <th>fluor_intensity_Medium</th>\n",
       "      <th>fluor_intensity_None</th>\n",
       "      <th>fluor_intensity_Slight</th>\n",
       "      <th>fluor_intensity_Strong</th>\n",
       "      <th>fluor_intensity_Very Slight</th>\n",
       "      <th>fluor_intensity_Very Strong</th>\n",
       "      <th>lab_GIA</th>\n",
       "      <th>lab_HRD</th>\n",
       "      <th>lab_IGI</th>\n",
       "    </tr>\n",
       "  </thead>\n",
       "  <tbody>\n",
       "    <tr>\n",
       "      <th>0</th>\n",
       "      <td>0</td>\n",
       "      <td>0</td>\n",
       "      <td>0</td>\n",
       "      <td>0</td>\n",
       "      <td>0</td>\n",
       "      <td>0</td>\n",
       "      <td>0</td>\n",
       "      <td>0</td>\n",
       "      <td>0</td>\n",
       "      <td>0</td>\n",
       "      <td>...</td>\n",
       "      <td>0</td>\n",
       "      <td>0</td>\n",
       "      <td>1</td>\n",
       "      <td>0</td>\n",
       "      <td>0</td>\n",
       "      <td>0</td>\n",
       "      <td>0</td>\n",
       "      <td>0</td>\n",
       "      <td>0</td>\n",
       "      <td>1</td>\n",
       "    </tr>\n",
       "    <tr>\n",
       "      <th>1</th>\n",
       "      <td>0</td>\n",
       "      <td>0</td>\n",
       "      <td>0</td>\n",
       "      <td>0</td>\n",
       "      <td>0</td>\n",
       "      <td>0</td>\n",
       "      <td>0</td>\n",
       "      <td>0</td>\n",
       "      <td>0</td>\n",
       "      <td>0</td>\n",
       "      <td>...</td>\n",
       "      <td>0</td>\n",
       "      <td>0</td>\n",
       "      <td>1</td>\n",
       "      <td>0</td>\n",
       "      <td>0</td>\n",
       "      <td>0</td>\n",
       "      <td>0</td>\n",
       "      <td>0</td>\n",
       "      <td>0</td>\n",
       "      <td>1</td>\n",
       "    </tr>\n",
       "    <tr>\n",
       "      <th>2</th>\n",
       "      <td>0</td>\n",
       "      <td>0</td>\n",
       "      <td>0</td>\n",
       "      <td>0</td>\n",
       "      <td>0</td>\n",
       "      <td>0</td>\n",
       "      <td>0</td>\n",
       "      <td>0</td>\n",
       "      <td>0</td>\n",
       "      <td>0</td>\n",
       "      <td>...</td>\n",
       "      <td>0</td>\n",
       "      <td>0</td>\n",
       "      <td>1</td>\n",
       "      <td>0</td>\n",
       "      <td>0</td>\n",
       "      <td>0</td>\n",
       "      <td>0</td>\n",
       "      <td>0</td>\n",
       "      <td>0</td>\n",
       "      <td>1</td>\n",
       "    </tr>\n",
       "    <tr>\n",
       "      <th>3</th>\n",
       "      <td>0</td>\n",
       "      <td>0</td>\n",
       "      <td>0</td>\n",
       "      <td>0</td>\n",
       "      <td>0</td>\n",
       "      <td>0</td>\n",
       "      <td>0</td>\n",
       "      <td>0</td>\n",
       "      <td>0</td>\n",
       "      <td>0</td>\n",
       "      <td>...</td>\n",
       "      <td>0</td>\n",
       "      <td>0</td>\n",
       "      <td>1</td>\n",
       "      <td>0</td>\n",
       "      <td>0</td>\n",
       "      <td>0</td>\n",
       "      <td>0</td>\n",
       "      <td>0</td>\n",
       "      <td>0</td>\n",
       "      <td>1</td>\n",
       "    </tr>\n",
       "    <tr>\n",
       "      <th>4</th>\n",
       "      <td>0</td>\n",
       "      <td>0</td>\n",
       "      <td>0</td>\n",
       "      <td>0</td>\n",
       "      <td>0</td>\n",
       "      <td>0</td>\n",
       "      <td>0</td>\n",
       "      <td>0</td>\n",
       "      <td>0</td>\n",
       "      <td>0</td>\n",
       "      <td>...</td>\n",
       "      <td>0</td>\n",
       "      <td>0</td>\n",
       "      <td>1</td>\n",
       "      <td>0</td>\n",
       "      <td>0</td>\n",
       "      <td>0</td>\n",
       "      <td>0</td>\n",
       "      <td>0</td>\n",
       "      <td>0</td>\n",
       "      <td>1</td>\n",
       "    </tr>\n",
       "  </tbody>\n",
       "</table>\n",
       "<p>5 rows × 84 columns</p>\n",
       "</div>"
      ],
      "text/plain": [
       "   shape_Asscher  shape_Cushion  shape_Cushion Modified  shape_Emerald  \\\n",
       "0              0              0                       0              0   \n",
       "1              0              0                       0              0   \n",
       "2              0              0                       0              0   \n",
       "3              0              0                       0              0   \n",
       "4              0              0                       0              0   \n",
       "\n",
       "   shape_Heart  shape_Marquise  shape_Oval  shape_Pear  shape_Princess  \\\n",
       "0            0               0           0           0               0   \n",
       "1            0               0           0           0               0   \n",
       "2            0               0           0           0               0   \n",
       "3            0               0           0           0               0   \n",
       "4            0               0           0           0               0   \n",
       "\n",
       "   shape_Radiant  ...  fluor_intensity_Faint  fluor_intensity_Medium  \\\n",
       "0              0  ...                      0                       0   \n",
       "1              0  ...                      0                       0   \n",
       "2              0  ...                      0                       0   \n",
       "3              0  ...                      0                       0   \n",
       "4              0  ...                      0                       0   \n",
       "\n",
       "   fluor_intensity_None  fluor_intensity_Slight  fluor_intensity_Strong  \\\n",
       "0                     1                       0                       0   \n",
       "1                     1                       0                       0   \n",
       "2                     1                       0                       0   \n",
       "3                     1                       0                       0   \n",
       "4                     1                       0                       0   \n",
       "\n",
       "   fluor_intensity_Very Slight  fluor_intensity_Very Strong  lab_GIA  lab_HRD  \\\n",
       "0                            0                            0        0        0   \n",
       "1                            0                            0        0        0   \n",
       "2                            0                            0        0        0   \n",
       "3                            0                            0        0        0   \n",
       "4                            0                            0        0        0   \n",
       "\n",
       "   lab_IGI  \n",
       "0        1  \n",
       "1        1  \n",
       "2        1  \n",
       "3        1  \n",
       "4        1  \n",
       "\n",
       "[5 rows x 84 columns]"
      ]
     },
     "execution_count": 21,
     "metadata": {},
     "output_type": "execute_result"
    }
   ],
   "source": [
    "dummie_vars.head()"
   ]
  },
  {
   "cell_type": "code",
   "execution_count": null,
   "id": "e486b0ad-c1cf-489a-91c6-e454402ae487",
   "metadata": {},
   "outputs": [],
   "source": []
  }
 ],
 "metadata": {
  "kernelspec": {
   "display_name": "Python 3 (ipykernel)",
   "language": "python",
   "name": "python3"
  },
  "language_info": {
   "codemirror_mode": {
    "name": "ipython",
    "version": 3
   },
   "file_extension": ".py",
   "mimetype": "text/x-python",
   "name": "python",
   "nbconvert_exporter": "python",
   "pygments_lexer": "ipython3",
   "version": "3.8.10"
  }
 },
 "nbformat": 4,
 "nbformat_minor": 5
}
