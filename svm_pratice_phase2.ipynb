{
 "cells": [
  {
   "cell_type": "code",
   "execution_count": 1,
   "id": "05673628-4a14-4bbf-92d1-89f70f72f6d1",
   "metadata": {},
   "outputs": [],
   "source": [
    "import os\n",
    "import numpy as np\n",
    "from collections import Counter\n",
    "from sklearn import svm\n",
    "from sklearn.metrics import accuracy_score"
   ]
  },
  {
   "cell_type": "code",
   "execution_count": 2,
   "id": "eaaf0507-f9e2-46e5-a457-77c1b77ab43c",
   "metadata": {},
   "outputs": [],
   "source": [
    "TRAIN_DIR = \"./data/svm_pratice_phase2/train-mails\"\n",
    "TEST_DIR = \"./data/svm_pratice_phase2/test-mails\"\n"
   ]
  },
  {
   "cell_type": "markdown",
   "id": "e41ecac1-3d79-48c0-92b4-4c1904102bcb",
   "metadata": {},
   "source": [
    "# Data cleaning + feature engineering"
   ]
  },
  {
   "cell_type": "code",
   "execution_count": 3,
   "id": "dd0ad68a-46f1-41a0-a385-eda8106bb0ed",
   "metadata": {},
   "outputs": [],
   "source": [
    "def make_dictionary(root_dir):\n",
    "    #this function returns a frequency counter about the top 3000 commonly used words in emails\n",
    "    all_words = []\n",
    "    emails = [os.path.join(root_dir, f) for f in os.listdir(root_dir)]\n",
    "    for mail in emails:\n",
    "        with open(mail) as m:\n",
    "            for line in m:\n",
    "                words = line.split()\n",
    "                all_words += words\n",
    "    dictionary = Counter(all_words)\n",
    "    \n",
    "    list_to_remove = list(dictionary)\n",
    "    #list_to_remove = dictionary.keys()\n",
    "    \n",
    "    for item in list_to_remove:\n",
    "        if item.isalpha() == False:\n",
    "            del dictionary[item]\n",
    "        elif len(item) == 1:\n",
    "            del dictionary[item]\n",
    "    \n",
    "    dictionary = dictionary.most_common(3000)\n",
    "    \n",
    "    return dictionary\n",
    "\n",
    "def extract_features(mail_dir):\n",
    "    files = [os.path.join(mail_dir, fi) for fi in os.listdir(mail_dir)]\n",
    "    features_matrix = np.zeros((len(files), 3000))\n",
    "    train_labels = np.zeros(len(files))\n",
    "    count = 0\n",
    "    docID = 0\n",
    "    for fil in files:\n",
    "        with open(fil) as fi:\n",
    "            for i, line in enumerate(fi):\n",
    "                if i == 2:\n",
    "                    words = line.split()\n",
    "                    for word in words:\n",
    "                        wordID = 0\n",
    "                        for i, d in enumerate(dictionary):\n",
    "                            if d[0] == word:\n",
    "                                wordID = i\n",
    "                                features_matrix[docID, wordID] = words.count(word)\n",
    "        train_labels[docID] = 0\n",
    "        filepathTokens = fil.split('/')\n",
    "        lastToken = filepathTokens[len(filepathTokens) - 1]\n",
    "        if(lastToken.startswith(\"spmsg\")):\n",
    "           train_labels[docID] = 1\n",
    "           count = count + 1\n",
    "        docID = docID + 1\n",
    "    return features_matrix, train_labels"
   ]
  },
  {
   "cell_type": "code",
   "execution_count": 15,
   "id": "029345ac-9559-4598-8046-010a1a62c565",
   "metadata": {},
   "outputs": [
    {
     "name": "stdout",
     "output_type": "stream",
     "text": [
      "reading and processing emails from files.\n"
     ]
    }
   ],
   "source": [
    "\n",
    "dictionary = make_dictionary(TRAIN_DIR)\n",
    "print(\"reading and processing emails from files.\")\n",
    "feature_matrix, labels = extract_features(TRAIN_DIR)\n",
    "test_feature_matrix, test_labels = extract_features(TEST_DIR)"
   ]
  },
  {
   "cell_type": "code",
   "execution_count": 5,
   "id": "875754b1-2f3c-47f5-8db3-acc93bcf22f7",
   "metadata": {},
   "outputs": [
    {
     "name": "stdout",
     "output_type": "stream",
     "text": [
      "(702, 3000)\n"
     ]
    }
   ],
   "source": [
    "print(feature_matrix.shape)"
   ]
  },
  {
   "cell_type": "markdown",
   "id": "9f33d528-cd8b-49ca-9b5f-de96b90e86e2",
   "metadata": {},
   "source": [
    "# Building model"
   ]
  },
  {
   "cell_type": "code",
   "execution_count": 6,
   "id": "0df2aea9-5f20-4914-b116-6a53792394f2",
   "metadata": {},
   "outputs": [
    {
     "name": "stdout",
     "output_type": "stream",
     "text": [
      "Training model.\n",
      "FINISHED classifying. accuracy score : \n",
      "0.926923076923077\n"
     ]
    }
   ],
   "source": [
    "model = svm.SVC()\n",
    "\n",
    "print(\"Training model.\")\n",
    "\n",
    "#train model\n",
    "model.fit(feature_matrix, labels)\n",
    "\n",
    "predicted_labels = model.predict(test_feature_matrix)\n",
    "\n",
    "print(\"FINISHED classifying. accuracy score : \")\n",
    "print(accuracy_score(test_labels, predicted_labels))"
   ]
  },
  {
   "cell_type": "code",
   "execution_count": 16,
   "id": "80858d1a-caed-458c-8103-477549295544",
   "metadata": {},
   "outputs": [
    {
     "ename": "TypeError",
     "evalue": "slice indices must be integers or None or have an __index__ method",
     "output_type": "error",
     "traceback": [
      "\u001b[0;31m---------------------------------------------------------------------------\u001b[0m",
      "\u001b[0;31mTypeError\u001b[0m                                 Traceback (most recent call last)",
      "Input \u001b[0;32mIn [16]\u001b[0m, in \u001b[0;36m<module>\u001b[0;34m\u001b[0m\n\u001b[1;32m      1\u001b[0m \u001b[38;5;66;03m#removing 10% train and test data for testing purpose \u001b[39;00m\n\u001b[0;32m----> 3\u001b[0m feature_matrix \u001b[38;5;241m=\u001b[39m \u001b[43mfeature_matrix\u001b[49m\u001b[43m[\u001b[49m\u001b[43m:\u001b[49m\u001b[38;5;28;43mlen\u001b[39;49m\u001b[43m(\u001b[49m\u001b[43mfeature_matrix\u001b[49m\u001b[43m)\u001b[49m\u001b[38;5;241;43m/\u001b[39;49m\u001b[38;5;241;43m10\u001b[39;49m\u001b[43m]\u001b[49m\n\u001b[1;32m      4\u001b[0m labels \u001b[38;5;241m=\u001b[39m labels[:\u001b[38;5;28mlen\u001b[39m(labels)\u001b[38;5;241m/\u001b[39m\u001b[38;5;241m10\u001b[39m]\n\u001b[1;32m      6\u001b[0m model \u001b[38;5;241m=\u001b[39m svm\u001b[38;5;241m.\u001b[39mSVC()\n",
      "\u001b[0;31mTypeError\u001b[0m: slice indices must be integers or None or have an __index__ method"
     ]
    }
   ],
   "source": [
    "#removing 10% train and test data for testing purpose \n",
    "\n",
    "# feature_matrix = feature_matrix[:len(feature_matrix)/10]\n",
    "# labels = labels[:len(labels)/10]\n",
    "\n",
    "# model = svm.SVC()\n",
    "\n",
    "# print(\"Training model.\")\n",
    "\n",
    "# #train model\n",
    "# model.fit(feature_matrix, labels)\n",
    "\n",
    "# predicted_labels = model.predict(test_feature_matrix)\n",
    "\n",
    "# print(\"FINISHED classifying. accuracy score : \")\n",
    "# print(accuracy_score(test_labels, predicted_labels))"
   ]
  },
  {
   "cell_type": "code",
   "execution_count": null,
   "id": "70a7c2b4-4f89-4b3f-858a-de4ebbf7c00d",
   "metadata": {},
   "outputs": [],
   "source": []
  }
 ],
 "metadata": {
  "kernelspec": {
   "display_name": "Python 3 (ipykernel)",
   "language": "python",
   "name": "python3"
  },
  "language_info": {
   "codemirror_mode": {
    "name": "ipython",
    "version": 3
   },
   "file_extension": ".py",
   "mimetype": "text/x-python",
   "name": "python",
   "nbconvert_exporter": "python",
   "pygments_lexer": "ipython3",
   "version": "3.8.10"
  }
 },
 "nbformat": 4,
 "nbformat_minor": 5
}
